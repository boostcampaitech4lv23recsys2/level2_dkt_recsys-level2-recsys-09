{
 "cells": [
  {
   "cell_type": "code",
   "execution_count": 47,
   "metadata": {},
   "outputs": [],
   "source": [
    "import numpy as np\n",
    "import pandas as pd\n",
    "import time\n",
    "import datetime\n",
    "import matplotlib.pyplot as plt\n",
    "import seaborn as sns; sns.set_theme(color_codes=True)\n",
    "import missingno as msno"
   ]
  },
  {
   "cell_type": "code",
   "execution_count": 2,
   "metadata": {},
   "outputs": [],
   "source": [
    "DATA_PATH = '/opt/ml/input/data/'\n",
    "train = pd.read_csv(DATA_PATH+'train_data.csv', parse_dates=['Timestamp'])\n",
    "test = pd.read_csv(DATA_PATH+'test_data.csv', parse_dates=['Timestamp'])\n",
    "sub = pd.read_csv(DATA_PATH+'sample_submission.csv')\n",
    "\n",
    "train = train.sort_values(by=['userID', 'Timestamp']).reset_index(drop=True)\n",
    "test = test.sort_values(by=['userID', 'Timestamp']).reset_index(drop=True)"
   ]
  },
  {
   "cell_type": "code",
   "execution_count": 3,
   "metadata": {},
   "outputs": [],
   "source": [
    "train['seconds'] = train['Timestamp'].copy().apply(lambda x: x.timestamp())"
   ]
  },
  {
   "cell_type": "code",
   "execution_count": 5,
   "metadata": {},
   "outputs": [
    {
     "data": {
      "text/plain": [
       "count    2.259888e+06\n",
       "mean     5.284207e+04\n",
       "std      4.052671e+05\n",
       "min      0.000000e+00\n",
       "25%      1.300000e+01\n",
       "50%      3.700000e+01\n",
       "75%      1.360000e+02\n",
       "max      2.560230e+07\n",
       "Name: seconds, dtype: float64"
      ]
     },
     "execution_count": 5,
     "metadata": {},
     "output_type": "execute_result"
    }
   ],
   "source": [
    "diff = train.loc[:, ['userID', 'seconds']].groupby('userID').diff(periods=-1)\n",
    "train['seconds'] = diff['seconds'].apply(abs)\n",
    "train['seconds'].describe()"
   ]
  },
  {
   "cell_type": "code",
   "execution_count": 6,
   "metadata": {},
   "outputs": [
    {
     "name": "stdout",
     "output_type": "stream",
     "text": [
      "<class 'pandas.core.series.Series'>\n",
      "RangeIndex: 2266586 entries, 0 to 2266585\n",
      "Series name: seconds\n",
      "Non-Null Count    Dtype  \n",
      "--------------    -----  \n",
      "2259888 non-null  float64\n",
      "dtypes: float64(1)\n",
      "memory usage: 17.3 MB\n"
     ]
    }
   ],
   "source": [
    "train['seconds'].info()"
   ]
  },
  {
   "cell_type": "code",
   "execution_count": 8,
   "metadata": {},
   "outputs": [],
   "source": [
    "def percentile(s):\n",
    "    return np.sum(s) / len(s)\n",
    "\n",
    "def minsum(s):\n",
    "    a = np.sort(s)\n",
    "    if a[0] == 0:\n",
    "        a[0] = 1\n",
    "    ans = 0\n",
    "    length = 0\n",
    "    for i in a:\n",
    "        if i>a[0]*5:\n",
    "            break\n",
    "        ans += i\n",
    "        length += 1\n",
    "    return ans / length"
   ]
  },
  {
   "cell_type": "code",
   "execution_count": 10,
   "metadata": {},
   "outputs": [
    {
     "data": {
      "text/html": [
       "<div>\n",
       "<style scoped>\n",
       "    .dataframe tbody tr th:only-of-type {\n",
       "        vertical-align: middle;\n",
       "    }\n",
       "\n",
       "    .dataframe tbody tr th {\n",
       "        vertical-align: top;\n",
       "    }\n",
       "\n",
       "    .dataframe thead th {\n",
       "        text-align: right;\n",
       "    }\n",
       "</style>\n",
       "<table border=\"1\" class=\"dataframe\">\n",
       "  <thead>\n",
       "    <tr style=\"text-align: right;\">\n",
       "      <th></th>\n",
       "      <th>assessmentItemID</th>\n",
       "      <th>userID</th>\n",
       "      <th>seconds</th>\n",
       "    </tr>\n",
       "  </thead>\n",
       "  <tbody>\n",
       "    <tr>\n",
       "      <th>8274</th>\n",
       "      <td>A080051006</td>\n",
       "      <td>171</td>\n",
       "      <td>0.333333</td>\n",
       "    </tr>\n",
       "    <tr>\n",
       "      <th>7684</th>\n",
       "      <td>A070138006</td>\n",
       "      <td>58</td>\n",
       "      <td>0.500000</td>\n",
       "    </tr>\n",
       "    <tr>\n",
       "      <th>7542</th>\n",
       "      <td>A070119008</td>\n",
       "      <td>40</td>\n",
       "      <td>0.500000</td>\n",
       "    </tr>\n",
       "    <tr>\n",
       "      <th>8152</th>\n",
       "      <td>A080035008</td>\n",
       "      <td>39</td>\n",
       "      <td>0.500000</td>\n",
       "    </tr>\n",
       "    <tr>\n",
       "      <th>8484</th>\n",
       "      <td>A080079008</td>\n",
       "      <td>153</td>\n",
       "      <td>0.555556</td>\n",
       "    </tr>\n",
       "    <tr>\n",
       "      <th>...</th>\n",
       "      <td>...</td>\n",
       "      <td>...</td>\n",
       "      <td>...</td>\n",
       "    </tr>\n",
       "    <tr>\n",
       "      <th>4002</th>\n",
       "      <td>A040183005</td>\n",
       "      <td>30</td>\n",
       "      <td>453.000000</td>\n",
       "    </tr>\n",
       "    <tr>\n",
       "      <th>2660</th>\n",
       "      <td>A030125005</td>\n",
       "      <td>74</td>\n",
       "      <td>562.250000</td>\n",
       "    </tr>\n",
       "    <tr>\n",
       "      <th>3056</th>\n",
       "      <td>A030198005</td>\n",
       "      <td>25</td>\n",
       "      <td>764.000000</td>\n",
       "    </tr>\n",
       "    <tr>\n",
       "      <th>1854</th>\n",
       "      <td>A020168005</td>\n",
       "      <td>26</td>\n",
       "      <td>768.500000</td>\n",
       "    </tr>\n",
       "    <tr>\n",
       "      <th>4094</th>\n",
       "      <td>A050001007</td>\n",
       "      <td>30</td>\n",
       "      <td>276698.750000</td>\n",
       "    </tr>\n",
       "  </tbody>\n",
       "</table>\n",
       "<p>9454 rows × 3 columns</p>\n",
       "</div>"
      ],
      "text/plain": [
       "     assessmentItemID  userID        seconds\n",
       "8274       A080051006     171       0.333333\n",
       "7684       A070138006      58       0.500000\n",
       "7542       A070119008      40       0.500000\n",
       "8152       A080035008      39       0.500000\n",
       "8484       A080079008     153       0.555556\n",
       "...               ...     ...            ...\n",
       "4002       A040183005      30     453.000000\n",
       "2660       A030125005      74     562.250000\n",
       "3056       A030198005      25     764.000000\n",
       "1854       A020168005      26     768.500000\n",
       "4094       A050001007      30  276698.750000\n",
       "\n",
       "[9454 rows x 3 columns]"
      ]
     },
     "execution_count": 10,
     "metadata": {},
     "output_type": "execute_result"
    }
   ],
   "source": [
    "time_groupyby = train.groupby(['answerCode','assessmentItemID']).agg({\n",
    "    'userID': 'count',\n",
    "    'seconds': minsum\n",
    "})\n",
    "time_groupyby = time_groupyby.loc[1].reset_index().sort_values(by='seconds')\n",
    "time_groupyby"
   ]
  },
  {
   "cell_type": "code",
   "execution_count": 13,
   "metadata": {},
   "outputs": [
    {
     "data": {
      "text/html": [
       "<div>\n",
       "<style scoped>\n",
       "    .dataframe tbody tr th:only-of-type {\n",
       "        vertical-align: middle;\n",
       "    }\n",
       "\n",
       "    .dataframe tbody tr th {\n",
       "        vertical-align: top;\n",
       "    }\n",
       "\n",
       "    .dataframe thead th {\n",
       "        text-align: right;\n",
       "    }\n",
       "</style>\n",
       "<table border=\"1\" class=\"dataframe\">\n",
       "  <thead>\n",
       "    <tr style=\"text-align: right;\">\n",
       "      <th></th>\n",
       "      <th>assessmentItemID</th>\n",
       "      <th>userID</th>\n",
       "      <th>answerCode</th>\n",
       "    </tr>\n",
       "  </thead>\n",
       "  <tbody>\n",
       "    <tr>\n",
       "      <th>0</th>\n",
       "      <td>A010001001</td>\n",
       "      <td>317</td>\n",
       "      <td>0.930599</td>\n",
       "    </tr>\n",
       "    <tr>\n",
       "      <th>1</th>\n",
       "      <td>A010001002</td>\n",
       "      <td>317</td>\n",
       "      <td>0.958991</td>\n",
       "    </tr>\n",
       "    <tr>\n",
       "      <th>2</th>\n",
       "      <td>A010001003</td>\n",
       "      <td>317</td>\n",
       "      <td>0.905363</td>\n",
       "    </tr>\n",
       "    <tr>\n",
       "      <th>3</th>\n",
       "      <td>A010001004</td>\n",
       "      <td>317</td>\n",
       "      <td>0.949527</td>\n",
       "    </tr>\n",
       "    <tr>\n",
       "      <th>4</th>\n",
       "      <td>A010001005</td>\n",
       "      <td>317</td>\n",
       "      <td>0.886435</td>\n",
       "    </tr>\n",
       "    <tr>\n",
       "      <th>...</th>\n",
       "      <td>...</td>\n",
       "      <td>...</td>\n",
       "      <td>...</td>\n",
       "    </tr>\n",
       "    <tr>\n",
       "      <th>9449</th>\n",
       "      <td>A090074002</td>\n",
       "      <td>45</td>\n",
       "      <td>0.444444</td>\n",
       "    </tr>\n",
       "    <tr>\n",
       "      <th>9450</th>\n",
       "      <td>A090074003</td>\n",
       "      <td>45</td>\n",
       "      <td>0.577778</td>\n",
       "    </tr>\n",
       "    <tr>\n",
       "      <th>9451</th>\n",
       "      <td>A090074004</td>\n",
       "      <td>45</td>\n",
       "      <td>0.333333</td>\n",
       "    </tr>\n",
       "    <tr>\n",
       "      <th>9452</th>\n",
       "      <td>A090074005</td>\n",
       "      <td>45</td>\n",
       "      <td>0.400000</td>\n",
       "    </tr>\n",
       "    <tr>\n",
       "      <th>9453</th>\n",
       "      <td>A090074006</td>\n",
       "      <td>45</td>\n",
       "      <td>0.466667</td>\n",
       "    </tr>\n",
       "  </tbody>\n",
       "</table>\n",
       "<p>9454 rows × 3 columns</p>\n",
       "</div>"
      ],
      "text/plain": [
       "     assessmentItemID  userID  answerCode\n",
       "0          A010001001     317    0.930599\n",
       "1          A010001002     317    0.958991\n",
       "2          A010001003     317    0.905363\n",
       "3          A010001004     317    0.949527\n",
       "4          A010001005     317    0.886435\n",
       "...               ...     ...         ...\n",
       "9449       A090074002      45    0.444444\n",
       "9450       A090074003      45    0.577778\n",
       "9451       A090074004      45    0.333333\n",
       "9452       A090074005      45    0.400000\n",
       "9453       A090074006      45    0.466667\n",
       "\n",
       "[9454 rows x 3 columns]"
      ]
     },
     "execution_count": 13,
     "metadata": {},
     "output_type": "execute_result"
    }
   ],
   "source": [
    "assess_groupby = train.groupby('assessmentItemID').agg({\n",
    "    'userID': 'count',\n",
    "    'answerCode': 'mean'\n",
    "})\n",
    "assess_groupby = assess_groupby.reset_index()\n",
    "assess_groupby"
   ]
  },
  {
   "cell_type": "code",
   "execution_count": 24,
   "metadata": {},
   "outputs": [],
   "source": [
    "assess_groupby['assessmentItemID'] = assess_groupby['assessmentItemID'].astype(str)"
   ]
  },
  {
   "cell_type": "code",
   "execution_count": 25,
   "metadata": {},
   "outputs": [],
   "source": [
    "time_groupyby['assessmentItemID'] = time_groupyby['assessmentItemID'].astype(str)"
   ]
  },
  {
   "cell_type": "code",
   "execution_count": 27,
   "metadata": {},
   "outputs": [
    {
     "data": {
      "text/plain": [
       "dtype('O')"
      ]
     },
     "execution_count": 27,
     "metadata": {},
     "output_type": "execute_result"
    }
   ],
   "source": [
    "time_groupyby['assessmentItemID'].dtype"
   ]
  },
  {
   "cell_type": "code",
   "execution_count": 28,
   "metadata": {},
   "outputs": [
    {
     "data": {
      "text/plain": [
       "dtype('O')"
      ]
     },
     "execution_count": 28,
     "metadata": {},
     "output_type": "execute_result"
    }
   ],
   "source": [
    "assess_groupby['assessmentItemID'].dtype"
   ]
  },
  {
   "cell_type": "code",
   "execution_count": 36,
   "metadata": {},
   "outputs": [
    {
     "data": {
      "text/html": [
       "<div>\n",
       "<style scoped>\n",
       "    .dataframe tbody tr th:only-of-type {\n",
       "        vertical-align: middle;\n",
       "    }\n",
       "\n",
       "    .dataframe tbody tr th {\n",
       "        vertical-align: top;\n",
       "    }\n",
       "\n",
       "    .dataframe thead th {\n",
       "        text-align: right;\n",
       "    }\n",
       "</style>\n",
       "<table border=\"1\" class=\"dataframe\">\n",
       "  <thead>\n",
       "    <tr style=\"text-align: right;\">\n",
       "      <th></th>\n",
       "      <th>assessmentItemID</th>\n",
       "      <th>seconds</th>\n",
       "      <th>answerCode</th>\n",
       "    </tr>\n",
       "  </thead>\n",
       "  <tbody>\n",
       "    <tr>\n",
       "      <th>0</th>\n",
       "      <td>A080051006</td>\n",
       "      <td>0.333333</td>\n",
       "      <td>0.467213</td>\n",
       "    </tr>\n",
       "    <tr>\n",
       "      <th>1</th>\n",
       "      <td>A070138006</td>\n",
       "      <td>0.500000</td>\n",
       "      <td>0.320442</td>\n",
       "    </tr>\n",
       "    <tr>\n",
       "      <th>2</th>\n",
       "      <td>A070119008</td>\n",
       "      <td>0.500000</td>\n",
       "      <td>0.178571</td>\n",
       "    </tr>\n",
       "    <tr>\n",
       "      <th>3</th>\n",
       "      <td>A080035008</td>\n",
       "      <td>0.500000</td>\n",
       "      <td>0.433333</td>\n",
       "    </tr>\n",
       "    <tr>\n",
       "      <th>4</th>\n",
       "      <td>A080079008</td>\n",
       "      <td>0.555556</td>\n",
       "      <td>0.426184</td>\n",
       "    </tr>\n",
       "    <tr>\n",
       "      <th>...</th>\n",
       "      <td>...</td>\n",
       "      <td>...</td>\n",
       "      <td>...</td>\n",
       "    </tr>\n",
       "    <tr>\n",
       "      <th>9449</th>\n",
       "      <td>A040183005</td>\n",
       "      <td>453.000000</td>\n",
       "      <td>0.326087</td>\n",
       "    </tr>\n",
       "    <tr>\n",
       "      <th>9450</th>\n",
       "      <td>A030125005</td>\n",
       "      <td>562.250000</td>\n",
       "      <td>0.277154</td>\n",
       "    </tr>\n",
       "    <tr>\n",
       "      <th>9451</th>\n",
       "      <td>A030198005</td>\n",
       "      <td>764.000000</td>\n",
       "      <td>0.531915</td>\n",
       "    </tr>\n",
       "    <tr>\n",
       "      <th>9452</th>\n",
       "      <td>A020168005</td>\n",
       "      <td>768.500000</td>\n",
       "      <td>0.187050</td>\n",
       "    </tr>\n",
       "    <tr>\n",
       "      <th>9453</th>\n",
       "      <td>A050001007</td>\n",
       "      <td>276698.750000</td>\n",
       "      <td>0.666667</td>\n",
       "    </tr>\n",
       "  </tbody>\n",
       "</table>\n",
       "<p>9454 rows × 3 columns</p>\n",
       "</div>"
      ],
      "text/plain": [
       "     assessmentItemID        seconds  answerCode\n",
       "0          A080051006       0.333333    0.467213\n",
       "1          A070138006       0.500000    0.320442\n",
       "2          A070119008       0.500000    0.178571\n",
       "3          A080035008       0.500000    0.433333\n",
       "4          A080079008       0.555556    0.426184\n",
       "...               ...            ...         ...\n",
       "9449       A040183005     453.000000    0.326087\n",
       "9450       A030125005     562.250000    0.277154\n",
       "9451       A030198005     764.000000    0.531915\n",
       "9452       A020168005     768.500000    0.187050\n",
       "9453       A050001007  276698.750000    0.666667\n",
       "\n",
       "[9454 rows x 3 columns]"
      ]
     },
     "execution_count": 36,
     "metadata": {},
     "output_type": "execute_result"
    }
   ],
   "source": [
    "merged_time_ass = time_groupyby.merge(assess_groupby,on='assessmentItemID')[['assessmentItemID','seconds','answerCode']]\n",
    "merged_time_ass"
   ]
  },
  {
   "cell_type": "code",
   "execution_count": 87,
   "metadata": {},
   "outputs": [
    {
     "data": {
      "text/plain": [
       "Text(0, 0.5, 'Mean Seconds of correct answers')"
      ]
     },
     "execution_count": 87,
     "metadata": {},
     "output_type": "execute_result"
    },
    {
     "data": {
      "image/png": "[encoded data removed]",
      "text/plain": [
       "<Figure size 640x480 with 1 Axes>"
      ]
     },
     "metadata": {},
     "output_type": "display_data"
    }
   ],
   "source": [
    "fig, ax = plt.subplots()\n",
    "\n",
    "merged_time_ass.set_index('seconds')['answerCode'].hist(bins=30, ax=ax)\n",
    "\n",
    "ax.set_title('By AssessmentItemID')\n",
    "ax.set_xlabel('Correct Answer Rate')\n",
    "ax.set_ylabel('Mean Seconds of correct answers')"
   ]
  },
  {
   "cell_type": "code",
   "execution_count": null,
   "metadata": {},
   "outputs": [],
   "source": []
  }
 ],
 "metadata": {
  "interpreter": {
   "hash": "d4d1e4263499bec80672ea0156c357c1ee493ec2b1c70f0acce89fc37c4a6abe"
  },
  "kernelspec": {
   "display_name": "Python 3.8.5 ('base')",
   "language": "python",
   "name": "python3"
  },
  "language_info": {
   "codemirror_mode": {
    "name": "ipython",
    "version": 3
   },
   "file_extension": ".py",
   "mimetype": "text/x-python",
   "name": "python",
   "nbconvert_exporter": "python",
   "pygments_lexer": "ipython3",
   "version": "3.8.5"
  },
  "orig_nbformat": 4
 },
 "nbformat": 4,
 "nbformat_minor": 2
}
