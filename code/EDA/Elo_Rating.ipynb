{
 "cells": [
  {
   "cell_type": "code",
   "execution_count": 1,
   "metadata": {},
   "outputs": [],
   "source": [
    "import numpy as np \n",
    "import pandas as pd \n",
    "from tqdm import tqdm"
   ]
  },
  {
   "cell_type": "markdown",
   "metadata": {},
   "source": [
    "ELO functions"
   ]
  },
  {
   "cell_type": "code",
   "execution_count": 2,
   "metadata": {},
   "outputs": [],
   "source": [
    "def get_new_theta(is_good_answer, beta, left_asymptote, theta, nb_previous_answers):\n",
    "    return theta + learning_rate_theta(nb_previous_answers) * (\n",
    "        is_good_answer - probability_of_good_answer(theta, beta, left_asymptote)\n",
    "    )\n",
    "\n",
    "def get_new_beta(is_good_answer, beta, left_asymptote, theta, nb_previous_answers):\n",
    "    return beta - learning_rate_beta(nb_previous_answers) * (\n",
    "        is_good_answer - probability_of_good_answer(theta, beta, left_asymptote)\n",
    "    )\n",
    "\n",
    "def learning_rate_theta(nb_answers):\n",
    "    return max(0.3 / (1 + 0.01 * nb_answers), 0.04)\n",
    "\n",
    "def learning_rate_beta(nb_answers):\n",
    "    return 1 / (1 + 0.05 * nb_answers)\n",
    "\n",
    "def probability_of_good_answer(theta, beta, left_asymptote):\n",
    "    return left_asymptote + (1 - left_asymptote) * sigmoid(theta - beta)\n",
    "\n",
    "def sigmoid(x):\n",
    "    return 1 / (1 + np.exp(-x))"
   ]
  },
  {
   "cell_type": "markdown",
   "metadata": {},
   "source": [
    "Parameter Estimation"
   ]
  },
  {
   "cell_type": "code",
   "execution_count": 3,
   "metadata": {},
   "outputs": [],
   "source": [
    "def estimate_parameters(answers_df, granularity_feature_name='content_id'):\n",
    "    item_parameters = {\n",
    "        granularity_feature_value: {\"beta\": 0, \"nb_answers\": 0}\n",
    "        for granularity_feature_value in np.unique(answers_df[granularity_feature_name])\n",
    "    }\n",
    "    student_parameters = {\n",
    "        student_id: {\"theta\": 0, \"nb_answers\": 0}\n",
    "        for student_id in np.unique(answers_df.student_id)\n",
    "    }\n",
    "\n",
    "    print(\"Parameter estimation is starting...\")\n",
    "\n",
    "    for student_id, item_id, left_asymptote, answered_correctly in tqdm(\n",
    "        zip(answers_df.student_id.values, answers_df[granularity_feature_name].values, answers_df.left_asymptote.values, answers_df.answered_correctly.values)\n",
    "    ):\n",
    "        theta = student_parameters[student_id][\"theta\"]\n",
    "        beta = item_parameters[item_id][\"beta\"]\n",
    "\n",
    "        item_parameters[item_id][\"beta\"] = get_new_beta(\n",
    "            answered_correctly, beta, left_asymptote, theta, item_parameters[item_id][\"nb_answers\"],\n",
    "        )\n",
    "        student_parameters[student_id][\"theta\"] = get_new_theta(\n",
    "            answered_correctly, beta, left_asymptote, theta, student_parameters[student_id][\"nb_answers\"],\n",
    "        )\n",
    "        \n",
    "        item_parameters[item_id][\"nb_answers\"] += 1\n",
    "        student_parameters[student_id][\"nb_answers\"] += 1\n",
    "\n",
    "    print(f\"Theta & beta estimations on {granularity_feature_name} are completed.\")\n",
    "    return student_parameters, item_parameters"
   ]
  },
  {
   "cell_type": "markdown",
   "metadata": {},
   "source": [
    "Update Parameters"
   ]
  },
  {
   "cell_type": "code",
   "execution_count": 4,
   "metadata": {},
   "outputs": [],
   "source": [
    "def update_parameters(answers_df, student_parameters, item_parameters, granularity_feature_name='content_id'):\n",
    "    for student_id, item_id, left_asymptote, answered_correctly in tqdm(zip(\n",
    "        answers_df.student_id.values, \n",
    "        answers_df[granularity_feature_name].values, \n",
    "        answers_df.left_asymptote.values, \n",
    "        answers_df.answered_correctly.values)\n",
    "    ):\n",
    "        if student_id not in student_parameters:\n",
    "            student_parameters[student_id] = {'theta': 0, 'nb_answers': 0}\n",
    "        if item_id not in item_parameters:\n",
    "            item_parameters[item_id] = {'beta': 0, 'nb_answers': 0}\n",
    "            \n",
    "        theta = student_parameters[student_id]['theta']\n",
    "        beta = item_parameters[item_id]['beta']\n",
    "\n",
    "        student_parameters[student_id]['theta'] = get_new_theta(\n",
    "            answered_correctly, beta, left_asymptote, theta, student_parameters[student_id]['nb_answers']\n",
    "        )\n",
    "        item_parameters[item_id]['beta'] = get_new_beta(\n",
    "            answered_correctly, beta, left_asymptote, theta, item_parameters[item_id]['nb_answers']\n",
    "        )\n",
    "        \n",
    "        student_parameters[student_id]['nb_answers'] += 1\n",
    "        item_parameters[item_id]['nb_answers'] += 1\n",
    "        \n",
    "    return student_parameters, item_parameters"
   ]
  },
  {
   "cell_type": "markdown",
   "metadata": {},
   "source": [
    "Probability Estimation"
   ]
  },
  {
   "cell_type": "code",
   "execution_count": 5,
   "metadata": {},
   "outputs": [],
   "source": [
    "def estimate_probas(test_df, student_parameters, item_parameters, granularity_feature_name='content_id'):\n",
    "    probability_of_success_list = []\n",
    "    \n",
    "    for student_id, item_id, left_asymptote in tqdm(\n",
    "        zip(test_df.student_id.values, test_df[granularity_feature_name].values, test_df.left_asymptote.values)\n",
    "    ):\n",
    "        theta = student_parameters[student_id]['theta'] if student_id in student_parameters else 0\n",
    "        beta = item_parameters[item_id]['beta'] if item_id in item_parameters else 0\n",
    "\n",
    "        probability_of_success_list.append(probability_of_good_answer(theta, beta, left_asymptote))\n",
    "\n",
    "    return probability_of_success_list"
   ]
  },
  {
   "cell_type": "markdown",
   "metadata": {},
   "source": [
    "Main"
   ]
  },
  {
   "cell_type": "code",
   "execution_count": 6,
   "metadata": {},
   "outputs": [],
   "source": [
    "compute_estimations = True\n",
    "nb_rows_training = None"
   ]
  },
  {
   "cell_type": "code",
   "execution_count": 7,
   "metadata": {},
   "outputs": [
    {
     "name": "stdout",
     "output_type": "stream",
     "text": [
      "Dataset of shape (2525956, 4)\n",
      "Columns are ['student_id', 'content_id', 'answered_correctly', 'left_asymptote']\n",
      "Parameter estimation is starting...\n"
     ]
    },
    {
     "name": "stderr",
     "output_type": "stream",
     "text": [
      "2525956it [00:17, 146140.15it/s]"
     ]
    },
    {
     "name": "stdout",
     "output_type": "stream",
     "text": [
      "Theta & beta estimations on content_id are completed.\n"
     ]
    },
    {
     "name": "stderr",
     "output_type": "stream",
     "text": [
      "\n"
     ]
    }
   ],
   "source": [
    "if compute_estimations:\n",
    "    DATA_PATH = '../../data/'\n",
    "    objective = \"assessmentItemID\"\n",
    "    training = pd.read_csv(DATA_PATH+\"train_data.csv\", usecols=[objective,\"userID\",\"answerCode\"], dtype={\"answerCode\": \"int8\"})\n",
    "    test = pd.read_csv(DATA_PATH+\"test_data.csv\", usecols=[objective,\"userID\",\"answerCode\"], dtype={\"answerCode\": \"int8\"})\n",
    "    training = pd.concat([training,test])\n",
    "    training.columns = [\"student_id\", \"content_id\", \"answered_correctly\"]\n",
    "    #df = df.sort_values(by=['userID', 'Timestamp']).reset_index(drop=True)\n",
    "    # training = pd.read_csv(\n",
    "    #     filepath_or_buffer=\"/kaggle/input/riiid-test-answer-prediction/train.csv\", \n",
    "    #     usecols=[\"content_id\", \"user_id\", \"answered_correctly\"], \n",
    "    #     dtype={'answered_correctly': \"int8\"},\n",
    "    #     nrows=nb_rows_training\n",
    "    # )\n",
    "    # training.rename(columns={'userID': 'student_id'}, inplace=True)\n",
    "    \n",
    "    training = training[training.answered_correctly != -1]\n",
    "    training['left_asymptote'] = 1/100\n",
    "\n",
    "    print(f\"Dataset of shape {training.shape}\")\n",
    "    print(f\"Columns are {list(training.columns)}\")\n",
    "    \n",
    "    student_parameters, item_parameters = estimate_parameters(training)\n",
    "else:\n",
    "    student_data = pd.read_csv('../input/thetas-20201217/thetas_20201217.csv', index_col='student_id')\n",
    "    student_parameters = student_data.to_dict('index')\n",
    "    print(f\"Successfully read student parameter file and converted to dict.\")\n",
    "    \n",
    "    content_data = pd.read_csv('../input/betas-content-id-20201217/betas_content_id_20201217.csv', index_col='content_id')\n",
    "    item_parameters = content_data.to_dict('index')\n",
    "    print(f\"Successfully read item parameter file and converted to dict.\")"
   ]
  },
  {
   "cell_type": "code",
   "execution_count": 10,
   "metadata": {},
   "outputs": [],
   "source": [
    "item_df = pd.DataFrame(item_parameters).T.reset_index()\n",
    "item_df.columns = ['assessmentItemID','beta', 'nb_answers']"
   ]
  },
  {
   "cell_type": "code",
   "execution_count": 11,
   "metadata": {},
   "outputs": [],
   "source": [
    "user_df = pd.DataFrame(student_parameters).T.reset_index()\n",
    "user_df.columns = ['userID','theta', 'nb_answers']"
   ]
  },
  {
   "cell_type": "code",
   "execution_count": 45,
   "metadata": {},
   "outputs": [],
   "source": [
    "user_df.to_csv('../../data/user_elo.csv',index=False)\n",
    "item_df.to_csv('../../data/item_elo.csv',index=False)"
   ]
  },
  {
   "cell_type": "markdown",
   "metadata": {},
   "source": [
    "Submission"
   ]
  },
  {
   "cell_type": "code",
   "execution_count": null,
   "metadata": {},
   "outputs": [],
   "source": [
    "def format_test_df(test_df):\n",
    "    test_copy = test_df.copy()\n",
    "    test_copy = test_copy[test_copy['content_type_id'] == 0]\n",
    "    test_copy['left_asymptote'] = 1/4\n",
    "    test_copy = test_copy.rename(columns={'user_id': 'student_id'})\n",
    "    return test_copy"
   ]
  },
  {
   "cell_type": "code",
   "execution_count": null,
   "metadata": {},
   "outputs": [],
   "source": [
    "env = riiideducation.make_env()\n",
    "iter_test = env.iter_test()\n",
    "\n",
    "previous_test_df = None\n",
    "\n",
    "for (test_df, sample_prediction_df) in iter_test:\n",
    "    if previous_test_df is not None:\n",
    "        previous_test_df['answered_correctly'] = eval(test_df[\"prior_group_answers_correct\"].iloc[0])\n",
    "        previous_test_df = format_test_df(previous_test_df)\n",
    "        student_parameters, item_parameters = update_parameters(previous_test_df, student_parameters, item_parameters)\n",
    "\n",
    "    previous_test_df = test_df.copy()\n",
    "    test_df = format_test_df(test_df)\n",
    "    test_df['answered_correctly'] = estimate_probas(test_df, student_parameters, item_parameters)\n",
    "    env.predict(test_df[['row_id', 'answered_correctly']])"
   ]
  }
 ],
 "metadata": {
  "kernelspec": {
   "display_name": "Python 3.8.5 ('base')",
   "language": "python",
   "name": "python3"
  },
  "language_info": {
   "codemirror_mode": {
    "name": "ipython",
    "version": 3
   },
   "file_extension": ".py",
   "mimetype": "text/x-python",
   "name": "python",
   "nbconvert_exporter": "python",
   "pygments_lexer": "ipython3",
   "version": "3.8.5"
  },
  "orig_nbformat": 4,
  "vscode": {
   "interpreter": {
    "hash": "d4d1e4263499bec80672ea0156c357c1ee493ec2b1c70f0acce89fc37c4a6abe"
   }
  }
 },
 "nbformat": 4,
 "nbformat_minor": 2
}
