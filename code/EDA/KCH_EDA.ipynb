{
 "cells": [
  {
   "cell_type": "markdown",
   "metadata": {},
   "source": [
    "### ***Thanks to KSY (By KCH)***"
   ]
  },
  {
   "cell_type": "markdown",
   "metadata": {},
   "source": [
    "## 데이터 불러오기 및 패키지 설치"
   ]
  },
  {
   "cell_type": "code",
   "execution_count": 1,
   "metadata": {},
   "outputs": [],
   "source": [
    "import numpy as np\n",
    "import pandas as pd\n",
    "\n",
    "import os\n",
    "import random\n",
    "\n",
    "import warnings\n",
    "\n",
    "warnings.filterwarnings(action='ignore')\n",
    "\n",
    "path = '../../data/' # 환경에 맞게 바꿔주시면 됩니다.\n",
    "\n",
    "train_df = pd.read_csv(path + 'train_data.csv')\n",
    "test_df = pd.read_csv(path + 'test_data.csv')\n",
    "\n",
    "SEED = 42"
   ]
  },
  {
   "cell_type": "code",
   "execution_count": 2,
   "metadata": {},
   "outputs": [
    {
     "name": "stdout",
     "output_type": "stream",
     "text": [
      "<class 'pandas.core.frame.DataFrame'>\n",
      "RangeIndex: 2266586 entries, 0 to 2266585\n",
      "Data columns (total 6 columns):\n",
      " #   Column            Dtype \n",
      "---  ------            ----- \n",
      " 0   userID            int64 \n",
      " 1   assessmentItemID  object\n",
      " 2   testId            object\n",
      " 3   answerCode        int64 \n",
      " 4   Timestamp         object\n",
      " 5   KnowledgeTag      int64 \n",
      "dtypes: int64(3), object(3)\n",
      "memory usage: 103.8+ MB\n"
     ]
    }
   ],
   "source": [
    "train_df.info()"
   ]
  },
  {
   "cell_type": "markdown",
   "metadata": {},
   "source": [
    "# 유저-Test별로 시퀀스를 분할할 수 있을까?"
   ]
  },
  {
   "cell_type": "code",
   "execution_count": 5,
   "metadata": {},
   "outputs": [
    {
     "data": {
      "text/plain": [
       "18      47\n",
       "17      44\n",
       "24      40\n",
       "20      39\n",
       "16      38\n",
       "        ..\n",
       "1304     1\n",
       "896      1\n",
       "934      1\n",
       "971      1\n",
       "9        1\n",
       "Name: assessmentItemID, Length: 1176, dtype: int64"
      ]
     },
     "execution_count": 5,
     "metadata": {},
     "output_type": "execute_result"
    }
   ],
   "source": [
    "train_df.groupby('userID')['assessmentItemID'].count().value_counts()"
   ]
  },
  {
   "cell_type": "code",
   "execution_count": 23,
   "metadata": {},
   "outputs": [
    {
     "data": {
      "text/plain": [
       "<AxesSubplot: >"
      ]
     },
     "execution_count": 23,
     "metadata": {},
     "output_type": "execute_result"
    },
    {
     "data": {
      "image/png": "[encoded data removed]",
      "text/plain": [
       "<Figure size 640x480 with 1 Axes>"
      ]
     },
     "metadata": {},
     "output_type": "display_data"
    }
   ],
   "source": [
    "train_df.groupby('userID')['assessmentItemID'].count().hist()"
   ]
  },
  {
   "cell_type": "code",
   "execution_count": 6,
   "metadata": {},
   "outputs": [
    {
     "data": {
      "text/plain": [
       "5     154004\n",
       "6      69198\n",
       "7      56625\n",
       "8      46891\n",
       "4      12277\n",
       "9      12164\n",
       "10      4771\n",
       "12      3638\n",
       "3       1580\n",
       "16      1117\n",
       "14      1116\n",
       "11       828\n",
       "13       259\n",
       "2        259\n",
       "18       231\n",
       "24        92\n",
       "20        43\n",
       "21        31\n",
       "22        20\n",
       "15        13\n",
       "26         5\n",
       "27         2\n",
       "Name: assessmentItemID, dtype: int64"
      ]
     },
     "execution_count": 6,
     "metadata": {},
     "output_type": "execute_result"
    }
   ],
   "source": [
    "train_df.groupby(['userID' ,'testId'])['assessmentItemID'].count().value_counts()"
   ]
  },
  {
   "cell_type": "code",
   "execution_count": 24,
   "metadata": {},
   "outputs": [
    {
     "data": {
      "text/plain": [
       "<AxesSubplot: >"
      ]
     },
     "execution_count": 24,
     "metadata": {},
     "output_type": "execute_result"
    },
    {
     "data": {
      "image/png": "[encoded data removed]",
      "text/plain": [
       "<Figure size 640x480 with 1 Axes>"
      ]
     },
     "metadata": {},
     "output_type": "display_data"
    }
   ],
   "source": [
    "train_df.groupby(['userID' ,'testId'])['assessmentItemID'].count().hist()"
   ]
  },
  {
   "cell_type": "markdown",
   "metadata": {},
   "source": [
    "현재 유저 시퀀스 데이터로 학습 시 max_len이 20 이하일 때, 성능이 더 좋으므로 max_len이 커봤자 제대로 활용하지 못한다 \n",
    "\n",
    "=> 시퀀스 길이 분포가 2~27인 유저-테스트 시퀀스 데이터가 더 적합할 수도 있음"
   ]
  },
  {
   "cell_type": "code",
   "execution_count": 8,
   "metadata": {},
   "outputs": [
    {
     "data": {
      "text/html": [
       "<div>\n",
       "<style scoped>\n",
       "    .dataframe tbody tr th:only-of-type {\n",
       "        vertical-align: middle;\n",
       "    }\n",
       "\n",
       "    .dataframe tbody tr th {\n",
       "        vertical-align: top;\n",
       "    }\n",
       "\n",
       "    .dataframe thead th {\n",
       "        text-align: right;\n",
       "    }\n",
       "</style>\n",
       "<table border=\"1\" class=\"dataframe\">\n",
       "  <thead>\n",
       "    <tr style=\"text-align: right;\">\n",
       "      <th></th>\n",
       "      <th>userID</th>\n",
       "      <th>assessmentItemID</th>\n",
       "      <th>testId</th>\n",
       "      <th>answerCode</th>\n",
       "      <th>Timestamp</th>\n",
       "      <th>KnowledgeTag</th>\n",
       "    </tr>\n",
       "  </thead>\n",
       "  <tbody>\n",
       "    <tr>\n",
       "      <th>584</th>\n",
       "      <td>0</td>\n",
       "      <td>A020172001</td>\n",
       "      <td>A020000172</td>\n",
       "      <td>1</td>\n",
       "      <td>2020-10-11 11:06:47</td>\n",
       "      <td>8132</td>\n",
       "    </tr>\n",
       "    <tr>\n",
       "      <th>585</th>\n",
       "      <td>0</td>\n",
       "      <td>A020172002</td>\n",
       "      <td>A020000172</td>\n",
       "      <td>1</td>\n",
       "      <td>2020-10-11 11:06:56</td>\n",
       "      <td>8132</td>\n",
       "    </tr>\n",
       "    <tr>\n",
       "      <th>586</th>\n",
       "      <td>0</td>\n",
       "      <td>A020172003</td>\n",
       "      <td>A020000172</td>\n",
       "      <td>1</td>\n",
       "      <td>2020-10-11 11:07:13</td>\n",
       "      <td>8132</td>\n",
       "    </tr>\n",
       "    <tr>\n",
       "      <th>587</th>\n",
       "      <td>0</td>\n",
       "      <td>A020172004</td>\n",
       "      <td>A020000172</td>\n",
       "      <td>1</td>\n",
       "      <td>2020-10-11 11:07:46</td>\n",
       "      <td>8132</td>\n",
       "    </tr>\n",
       "    <tr>\n",
       "      <th>588</th>\n",
       "      <td>0</td>\n",
       "      <td>A020172005</td>\n",
       "      <td>A020000172</td>\n",
       "      <td>0</td>\n",
       "      <td>2020-10-11 11:08:20</td>\n",
       "      <td>8132</td>\n",
       "    </tr>\n",
       "    <tr>\n",
       "      <th>...</th>\n",
       "      <td>...</td>\n",
       "      <td>...</td>\n",
       "      <td>...</td>\n",
       "      <td>...</td>\n",
       "      <td>...</td>\n",
       "      <td>...</td>\n",
       "    </tr>\n",
       "    <tr>\n",
       "      <th>2266581</th>\n",
       "      <td>7441</td>\n",
       "      <td>A030071005</td>\n",
       "      <td>A030000071</td>\n",
       "      <td>0</td>\n",
       "      <td>2020-06-05 06:50:21</td>\n",
       "      <td>438</td>\n",
       "    </tr>\n",
       "    <tr>\n",
       "      <th>2266582</th>\n",
       "      <td>7441</td>\n",
       "      <td>A040165001</td>\n",
       "      <td>A040000165</td>\n",
       "      <td>1</td>\n",
       "      <td>2020-08-21 01:06:39</td>\n",
       "      <td>8836</td>\n",
       "    </tr>\n",
       "    <tr>\n",
       "      <th>2266583</th>\n",
       "      <td>7441</td>\n",
       "      <td>A040165002</td>\n",
       "      <td>A040000165</td>\n",
       "      <td>1</td>\n",
       "      <td>2020-08-21 01:06:50</td>\n",
       "      <td>8836</td>\n",
       "    </tr>\n",
       "    <tr>\n",
       "      <th>2266584</th>\n",
       "      <td>7441</td>\n",
       "      <td>A040165003</td>\n",
       "      <td>A040000165</td>\n",
       "      <td>1</td>\n",
       "      <td>2020-08-21 01:07:36</td>\n",
       "      <td>8836</td>\n",
       "    </tr>\n",
       "    <tr>\n",
       "      <th>2266585</th>\n",
       "      <td>7441</td>\n",
       "      <td>A040165004</td>\n",
       "      <td>A040000165</td>\n",
       "      <td>1</td>\n",
       "      <td>2020-08-21 01:08:49</td>\n",
       "      <td>8836</td>\n",
       "    </tr>\n",
       "  </tbody>\n",
       "</table>\n",
       "<p>2266586 rows × 6 columns</p>\n",
       "</div>"
      ],
      "text/plain": [
       "         userID assessmentItemID      testId  answerCode            Timestamp  \\\n",
       "584           0       A020172001  A020000172           1  2020-10-11 11:06:47   \n",
       "585           0       A020172002  A020000172           1  2020-10-11 11:06:56   \n",
       "586           0       A020172003  A020000172           1  2020-10-11 11:07:13   \n",
       "587           0       A020172004  A020000172           1  2020-10-11 11:07:46   \n",
       "588           0       A020172005  A020000172           0  2020-10-11 11:08:20   \n",
       "...         ...              ...         ...         ...                  ...   \n",
       "2266581    7441       A030071005  A030000071           0  2020-06-05 06:50:21   \n",
       "2266582    7441       A040165001  A040000165           1  2020-08-21 01:06:39   \n",
       "2266583    7441       A040165002  A040000165           1  2020-08-21 01:06:50   \n",
       "2266584    7441       A040165003  A040000165           1  2020-08-21 01:07:36   \n",
       "2266585    7441       A040165004  A040000165           1  2020-08-21 01:08:49   \n",
       "\n",
       "         KnowledgeTag  \n",
       "584              8132  \n",
       "585              8132  \n",
       "586              8132  \n",
       "587              8132  \n",
       "588              8132  \n",
       "...               ...  \n",
       "2266581           438  \n",
       "2266582          8836  \n",
       "2266583          8836  \n",
       "2266584          8836  \n",
       "2266585          8836  \n",
       "\n",
       "[2266586 rows x 6 columns]"
      ]
     },
     "execution_count": 8,
     "metadata": {},
     "output_type": "execute_result"
    }
   ],
   "source": [
    "train_df.sort_values(by=[\"userID\", \"testId\", \"Timestamp\"], axis=0)"
   ]
  },
  {
   "cell_type": "code",
   "execution_count": 25,
   "metadata": {},
   "outputs": [],
   "source": [
    "columns = [\"userID\", \"assessmentItemID\", \"testId\", \"answerCode\", \"KnowledgeTag\"]\n",
    "group1 = (  # 각 유저별 [[testId], [assessmentItemID], [KnowledgeTag], [answerCode]]\n",
    "    train_df[columns]\n",
    "    .groupby(\"userID\")\n",
    "    .apply(\n",
    "        lambda r: (\n",
    "            r[\"testId\"].values,\n",
    "            r[\"assessmentItemID\"].values,\n",
    "            r[\"KnowledgeTag\"].values,\n",
    "            r[\"answerCode\"].values,\n",
    "        )\n",
    "    )\n",
    ")\n",
    "group2 = (  # 각 유저-테스트별 [[testId], [assessmentItemID], [KnowledgeTag], [answerCode]]\n",
    "    train_df[columns]\n",
    "    .groupby([\"userID\", \"testId\"])\n",
    "    .apply(\n",
    "        lambda r: (\n",
    "            #r[\"userID\"].values,\n",
    "            r[\"testId\"].values,\n",
    "            r[\"assessmentItemID\"].values,\n",
    "            r[\"KnowledgeTag\"].values,\n",
    "            r[\"answerCode\"].values,\n",
    "        )\n",
    "    )\n",
    ")"
   ]
  },
  {
   "cell_type": "code",
   "execution_count": 61,
   "metadata": {},
   "outputs": [
    {
     "name": "stdout",
     "output_type": "stream",
     "text": [
      "(6698,) (365164,)\n"
     ]
    }
   ],
   "source": [
    "print(group1.values.shape, group2.values.shape)"
   ]
  },
  {
   "cell_type": "code",
   "execution_count": 54,
   "metadata": {},
   "outputs": [
    {
     "data": {
      "text/plain": [
       "4"
      ]
     },
     "execution_count": 54,
     "metadata": {},
     "output_type": "execute_result"
    }
   ],
   "source": [
    "len(group1.values[0])"
   ]
  },
  {
   "cell_type": "code",
   "execution_count": 55,
   "metadata": {},
   "outputs": [
    {
     "data": {
      "text/plain": [
       "(array(['A060000001', 'A060000001', 'A060000001', 'A060000001',\n",
       "        'A060000001', 'A060000001', 'A060000003', 'A060000003',\n",
       "        'A060000003', 'A060000003', 'A060000003', 'A060000003',\n",
       "        'A060000003', 'A060000005', 'A060000005', 'A060000005',\n",
       "        'A060000005', 'A060000005', 'A060000005', 'A060000005',\n",
       "        'A060000007', 'A060000007', 'A060000007', 'A060000007',\n",
       "        'A060000007', 'A060000007', 'A060000007', 'A080000002',\n",
       "        'A080000002', 'A080000002', 'A080000002', 'A080000002',\n",
       "        'A080000002', 'A060000009', 'A060000009', 'A060000009',\n",
       "        'A060000009', 'A060000009', 'A060000009', 'A060000009',\n",
       "        'A060000016', 'A060000016', 'A060000016', 'A060000016',\n",
       "        'A060000016', 'A060000016', 'A060000016', 'A080000004',\n",
       "        'A080000004', 'A080000004', 'A080000004', 'A080000004',\n",
       "        'A080000004', 'A080000004', 'A080000004', 'A080000006',\n",
       "        'A080000006', 'A080000006', 'A080000006', 'A080000006',\n",
       "        'A080000006', 'A080000006', 'A080000006', 'A060000018',\n",
       "        'A060000018', 'A060000018', 'A060000018', 'A060000018',\n",
       "        'A060000018', 'A060000018', 'A060000020', 'A060000020',\n",
       "        'A060000020', 'A060000020', 'A060000020', 'A060000020',\n",
       "        'A060000020', 'A080000008', 'A080000008', 'A080000008',\n",
       "        'A080000008', 'A080000008', 'A080000008', 'A080000008',\n",
       "        'A080000008', 'A080000010', 'A080000010', 'A080000010',\n",
       "        'A080000010', 'A080000010', 'A080000010', 'A080000010',\n",
       "        'A080000010', 'A060000022', 'A060000022', 'A060000022',\n",
       "        'A060000022', 'A060000022', 'A060000022', 'A060000022',\n",
       "        'A080000012', 'A080000012', 'A080000012', 'A080000012',\n",
       "        'A080000012', 'A080000012', 'A080000012', 'A080000012',\n",
       "        'A080000014', 'A080000014', 'A080000014', 'A080000014',\n",
       "        'A080000014', 'A080000014', 'A080000014', 'A080000014',\n",
       "        'A080000016', 'A080000016', 'A080000016', 'A080000016',\n",
       "        'A080000016', 'A080000016', 'A080000016', 'A080000016',\n",
       "        'A060000024', 'A060000024', 'A060000024', 'A060000024',\n",
       "        'A060000024', 'A060000024', 'A060000024', 'A080000018',\n",
       "        'A080000018', 'A080000018', 'A080000018', 'A080000018',\n",
       "        'A080000018', 'A080000018', 'A080000018', 'A080000020',\n",
       "        'A080000020', 'A080000020', 'A080000020', 'A080000020',\n",
       "        'A080000020', 'A080000020', 'A080000020', 'A060000031',\n",
       "        'A060000031', 'A060000031', 'A060000031', 'A060000031',\n",
       "        'A060000031', 'A060000031', 'A060000033', 'A060000033',\n",
       "        'A060000033', 'A060000033', 'A060000033', 'A060000033',\n",
       "        'A060000033', 'A060000035', 'A060000035', 'A060000035',\n",
       "        'A060000035', 'A060000035', 'A060000035', 'A060000035',\n",
       "        'A060000037', 'A060000037', 'A060000037', 'A060000037',\n",
       "        'A060000037', 'A060000037', 'A060000037', 'A080000022',\n",
       "        'A080000022', 'A080000022', 'A080000022', 'A080000022',\n",
       "        'A080000022', 'A060000039', 'A060000039', 'A060000039',\n",
       "        'A060000039', 'A060000039', 'A060000039', 'A060000039',\n",
       "        'A080000024', 'A080000024', 'A080000024', 'A080000024',\n",
       "        'A080000024', 'A080000024', 'A060000041', 'A060000041',\n",
       "        'A060000041', 'A060000041', 'A060000041', 'A060000041',\n",
       "        'A060000041', 'A080000035', 'A080000035', 'A080000035',\n",
       "        'A080000035', 'A080000035', 'A080000035', 'A080000035',\n",
       "        'A080000035', 'A060000043', 'A060000043', 'A060000043',\n",
       "        'A060000043', 'A060000043', 'A060000043', 'A060000043',\n",
       "        'A080000036', 'A080000036', 'A080000036', 'A080000036',\n",
       "        'A080000036', 'A080000036', 'A080000036', 'A080000036',\n",
       "        'A080000037', 'A080000037', 'A080000037', 'A080000037',\n",
       "        'A080000037', 'A080000037', 'A080000037', 'A080000037',\n",
       "        'A060000052', 'A060000052', 'A060000052', 'A060000052',\n",
       "        'A060000052', 'A060000052', 'A060000052', 'A060000054',\n",
       "        'A060000054', 'A060000054', 'A060000054', 'A060000054',\n",
       "        'A060000054', 'A060000054', 'A080000038', 'A080000038',\n",
       "        'A080000038', 'A080000038', 'A080000038', 'A080000038',\n",
       "        'A080000038', 'A080000038', 'A060000056', 'A060000056',\n",
       "        'A060000056', 'A060000056', 'A060000056', 'A060000056',\n",
       "        'A060000056', 'A080000039', 'A080000039', 'A080000039',\n",
       "        'A080000039', 'A080000039', 'A080000039', 'A080000039',\n",
       "        'A080000039', 'A060000058', 'A060000058', 'A060000058',\n",
       "        'A060000058', 'A060000058', 'A060000058', 'A060000058',\n",
       "        'A060000060', 'A060000060', 'A060000060', 'A060000060',\n",
       "        'A060000060', 'A060000060', 'A060000060', 'A080000040',\n",
       "        'A080000040', 'A080000040', 'A080000040', 'A080000040',\n",
       "        'A080000040', 'A060000062', 'A060000062', 'A060000062',\n",
       "        'A060000062', 'A060000062', 'A060000062', 'A060000062',\n",
       "        'A080000041', 'A080000041', 'A080000041', 'A080000041',\n",
       "        'A080000041', 'A080000041', 'A080000042', 'A080000042',\n",
       "        'A080000042', 'A080000042', 'A080000042', 'A080000042',\n",
       "        'A080000042', 'A080000042', 'A060000070', 'A060000070',\n",
       "        'A060000070', 'A060000070', 'A060000070', 'A060000070',\n",
       "        'A060000070', 'A060000072', 'A060000072', 'A060000072',\n",
       "        'A060000072', 'A060000072', 'A060000072', 'A060000072',\n",
       "        'A080000043', 'A080000043', 'A080000043', 'A080000043',\n",
       "        'A080000043', 'A080000043', 'A080000043', 'A080000043',\n",
       "        'A060000074', 'A060000074', 'A060000074', 'A060000074',\n",
       "        'A060000074', 'A060000074', 'A060000074', 'A080000044',\n",
       "        'A080000044', 'A080000044', 'A080000044', 'A080000044',\n",
       "        'A080000044', 'A080000044', 'A080000044', 'A060000076',\n",
       "        'A060000076', 'A060000076', 'A060000076', 'A060000076',\n",
       "        'A060000076', 'A060000076', 'A060000078', 'A060000078',\n",
       "        'A060000078', 'A060000078', 'A060000078', 'A060000078',\n",
       "        'A060000078', 'A080000046', 'A080000046', 'A080000046',\n",
       "        'A080000046', 'A080000046', 'A080000046', 'A080000046',\n",
       "        'A080000046', 'A080000048', 'A080000048', 'A080000048',\n",
       "        'A080000048', 'A080000048', 'A080000048', 'A080000048',\n",
       "        'A080000048', 'A060000085', 'A060000085', 'A060000085',\n",
       "        'A060000085', 'A060000085', 'A060000085', 'A060000085',\n",
       "        'A060000087', 'A060000087', 'A060000087', 'A060000087',\n",
       "        'A060000087', 'A060000087', 'A060000087', 'A060000089',\n",
       "        'A060000089', 'A060000089', 'A060000089', 'A060000089',\n",
       "        'A060000089', 'A060000089', 'A060000091', 'A060000091',\n",
       "        'A060000091', 'A060000091', 'A060000091', 'A060000091',\n",
       "        'A060000091', 'A060000093', 'A060000093', 'A060000093',\n",
       "        'A060000093', 'A060000094', 'A060000094', 'A060000094',\n",
       "        'A060000094', 'A060000094', 'A060000094', 'A060000094',\n",
       "        'A060000094', 'A060000094', 'A060000095', 'A060000095',\n",
       "        'A060000095', 'A060000095', 'A060000095', 'A060000096',\n",
       "        'A060000096', 'A060000096', 'A060000096', 'A060000096',\n",
       "        'A060000096', 'A060000096', 'A060000096', 'A060000096',\n",
       "        'A080000062', 'A080000062', 'A080000062', 'A080000062',\n",
       "        'A080000062', 'A080000062', 'A080000070', 'A080000070',\n",
       "        'A080000070', 'A080000070', 'A080000070', 'A080000070',\n",
       "        'A080000070', 'A080000070', 'A080000072', 'A080000072',\n",
       "        'A080000072', 'A080000072', 'A080000072', 'A080000072',\n",
       "        'A080000072', 'A080000072', 'A080000076', 'A080000076',\n",
       "        'A080000076', 'A080000076', 'A080000076', 'A080000076',\n",
       "        'A080000076', 'A080000076', 'A080000078', 'A080000078',\n",
       "        'A080000078', 'A080000078', 'A080000078', 'A080000078',\n",
       "        'A080000078', 'A080000078', 'A060000097', 'A060000097',\n",
       "        'A060000097', 'A060000097', 'A060000097', 'A060000097',\n",
       "        'A060000097', 'A080000080', 'A080000080', 'A080000080',\n",
       "        'A080000080', 'A080000080', 'A080000080', 'A080000080',\n",
       "        'A080000080', 'A060000099', 'A060000099', 'A060000099',\n",
       "        'A060000099', 'A060000099', 'A060000099', 'A060000099',\n",
       "        'A080000082', 'A080000082', 'A080000082', 'A080000082',\n",
       "        'A080000082', 'A080000082', 'A060000101', 'A060000101',\n",
       "        'A060000101', 'A060000101', 'A060000101', 'A060000101',\n",
       "        'A060000101', 'A080000084', 'A080000084', 'A080000084',\n",
       "        'A080000084', 'A080000084', 'A080000084', 'A080000084',\n",
       "        'A080000084', 'A060000103', 'A060000103', 'A060000103',\n",
       "        'A060000103', 'A060000103', 'A060000103', 'A060000103',\n",
       "        'A080000086', 'A080000086', 'A080000086', 'A080000086',\n",
       "        'A080000086', 'A080000086', 'A060000105', 'A060000105',\n",
       "        'A060000105', 'A060000105', 'A060000105', 'A060000105',\n",
       "        'A060000105', 'A080000088', 'A080000088', 'A080000088',\n",
       "        'A080000088', 'A080000088', 'A080000088', 'A080000088',\n",
       "        'A080000088', 'A060000107', 'A060000107', 'A060000107',\n",
       "        'A060000107', 'A060000107', 'A060000107', 'A060000107',\n",
       "        'A080000090', 'A080000090', 'A080000090', 'A080000090',\n",
       "        'A080000090', 'A080000090', 'A080000092', 'A080000092',\n",
       "        'A080000092', 'A080000092', 'A080000092', 'A080000092',\n",
       "        'A080000092', 'A080000092', 'A080000094', 'A080000094',\n",
       "        'A080000094', 'A080000094', 'A080000094', 'A080000094',\n",
       "        'A080000096', 'A080000096', 'A080000096', 'A080000096',\n",
       "        'A080000096', 'A080000096', 'A080000096', 'A080000096',\n",
       "        'A080000098', 'A080000098', 'A080000098', 'A080000098',\n",
       "        'A080000098', 'A080000098', 'A080000098', 'A080000098',\n",
       "        'A020000172', 'A020000172', 'A020000172', 'A020000172',\n",
       "        'A020000172', 'A020000172', 'A060000121', 'A060000121',\n",
       "        'A060000121', 'A060000121', 'A060000121', 'A060000121',\n",
       "        'A060000121', 'A080000100', 'A080000100', 'A080000100',\n",
       "        'A080000100', 'A080000100', 'A080000100', 'A080000100',\n",
       "        'A080000100', 'A060000123', 'A060000123', 'A060000123',\n",
       "        'A060000123', 'A060000123', 'A060000123', 'A060000123',\n",
       "        'A060000125', 'A060000125', 'A060000125', 'A060000125',\n",
       "        'A060000125', 'A060000125', 'A060000125', 'A080000102',\n",
       "        'A080000102', 'A080000102', 'A080000102', 'A080000102',\n",
       "        'A080000102', 'A080000102', 'A080000102', 'A020000174',\n",
       "        'A020000174', 'A020000174', 'A020000174', 'A020000174',\n",
       "        'A020000181', 'A020000181', 'A020000181', 'A020000181',\n",
       "        'A020000181', 'A020000181', 'A060000127', 'A060000127',\n",
       "        'A060000127', 'A060000127', 'A060000127', 'A060000127',\n",
       "        'A060000127', 'A060000129', 'A060000129', 'A060000129',\n",
       "        'A060000129', 'A060000129', 'A060000129', 'A060000129',\n",
       "        'A020000182', 'A020000182', 'A020000182', 'A020000182',\n",
       "        'A020000182', 'A060000131', 'A060000131', 'A060000131',\n",
       "        'A060000131', 'A060000131', 'A060000131', 'A060000131',\n",
       "        'A020000183', 'A020000183', 'A020000183', 'A020000183',\n",
       "        'A020000183', 'A020000183', 'A020000183', 'A060000119',\n",
       "        'A060000119', 'A060000119', 'A060000119', 'A060000119',\n",
       "        'A060000119', 'A060000115', 'A060000115', 'A060000115',\n",
       "        'A060000115', 'A060000115', 'A060000115', 'A020000192',\n",
       "        'A020000192', 'A020000192', 'A020000192', 'A020000192',\n",
       "        'A020000192', 'A020000192', 'A080000108', 'A080000108',\n",
       "        'A080000108', 'A080000108', 'A080000108', 'A080000108',\n",
       "        'A080000108', 'A080000108', 'A080000112', 'A080000112',\n",
       "        'A080000112', 'A080000112', 'A080000112', 'A080000112',\n",
       "        'A080000112', 'A080000112', 'A080000114', 'A080000114',\n",
       "        'A080000114', 'A080000114', 'A080000114', 'A080000114',\n",
       "        'A080000114', 'A080000114', 'A080000118', 'A080000118',\n",
       "        'A080000118', 'A080000118', 'A080000118', 'A080000118',\n",
       "        'A080000118', 'A080000118', 'A080000120', 'A080000120',\n",
       "        'A080000120', 'A080000120', 'A080000120', 'A080000120',\n",
       "        'A080000128', 'A080000128', 'A080000128', 'A080000128',\n",
       "        'A080000128', 'A080000128', 'A080000128', 'A080000128',\n",
       "        'A080000128', 'A080000128', 'A080000128', 'A080000129',\n",
       "        'A080000129', 'A080000129', 'A080000129', 'A080000129',\n",
       "        'A080000129'], dtype=object),\n",
       " array(['A060001001', 'A060001002', 'A060001003', 'A060001004',\n",
       "        'A060001005', 'A060001007', 'A060003001', 'A060003002',\n",
       "        'A060003003', 'A060003004', 'A060003005', 'A060003006',\n",
       "        'A060003007', 'A060005001', 'A060005002', 'A060005003',\n",
       "        'A060005004', 'A060005005', 'A060005006', 'A060005007',\n",
       "        'A060007001', 'A060007002', 'A060007003', 'A060007004',\n",
       "        'A060007005', 'A060007006', 'A060007007', 'A080002001',\n",
       "        'A080002002', 'A080002003', 'A080002004', 'A080002005',\n",
       "        'A080002006', 'A060009001', 'A060009002', 'A060009003',\n",
       "        'A060009004', 'A060009005', 'A060009006', 'A060009007',\n",
       "        'A060016001', 'A060016002', 'A060016003', 'A060016004',\n",
       "        'A060016005', 'A060016006', 'A060016007', 'A080004001',\n",
       "        'A080004002', 'A080004003', 'A080004004', 'A080004005',\n",
       "        'A080004006', 'A080004008', 'A080004007', 'A080006001',\n",
       "        'A080006002', 'A080006003', 'A080006004', 'A080006005',\n",
       "        'A080006006', 'A080006007', 'A080006008', 'A060018001',\n",
       "        'A060018002', 'A060018003', 'A060018004', 'A060018005',\n",
       "        'A060018006', 'A060018007', 'A060020001', 'A060020002',\n",
       "        'A060020003', 'A060020004', 'A060020005', 'A060020006',\n",
       "        'A060020007', 'A080008008', 'A080008001', 'A080008002',\n",
       "        'A080008003', 'A080008004', 'A080008005', 'A080008006',\n",
       "        'A080008007', 'A080010001', 'A080010002', 'A080010003',\n",
       "        'A080010004', 'A080010005', 'A080010006', 'A080010007',\n",
       "        'A080010008', 'A060022001', 'A060022002', 'A060022003',\n",
       "        'A060022004', 'A060022005', 'A060022006', 'A060022007',\n",
       "        'A080012001', 'A080012002', 'A080012003', 'A080012008',\n",
       "        'A080012004', 'A080012005', 'A080012006', 'A080012007',\n",
       "        'A080014001', 'A080014002', 'A080014003', 'A080014004',\n",
       "        'A080014005', 'A080014008', 'A080014006', 'A080014007',\n",
       "        'A080016001', 'A080016002', 'A080016004', 'A080016003',\n",
       "        'A080016005', 'A080016006', 'A080016007', 'A080016008',\n",
       "        'A060024001', 'A060024002', 'A060024003', 'A060024004',\n",
       "        'A060024005', 'A060024006', 'A060024007', 'A080018001',\n",
       "        'A080018002', 'A080018003', 'A080018004', 'A080018006',\n",
       "        'A080018005', 'A080018007', 'A080018008', 'A080020008',\n",
       "        'A080020001', 'A080020002', 'A080020003', 'A080020004',\n",
       "        'A080020005', 'A080020007', 'A080020006', 'A060031001',\n",
       "        'A060031002', 'A060031003', 'A060031004', 'A060031005',\n",
       "        'A060031006', 'A060031007', 'A060033001', 'A060033002',\n",
       "        'A060033003', 'A060033004', 'A060033005', 'A060033006',\n",
       "        'A060033007', 'A060035001', 'A060035002', 'A060035003',\n",
       "        'A060035004', 'A060035005', 'A060035006', 'A060035007',\n",
       "        'A060037001', 'A060037002', 'A060037003', 'A060037004',\n",
       "        'A060037005', 'A060037006', 'A060037007', 'A080022001',\n",
       "        'A080022002', 'A080022003', 'A080022004', 'A080022006',\n",
       "        'A080022005', 'A060039001', 'A060039002', 'A060039003',\n",
       "        'A060039004', 'A060039005', 'A060039006', 'A060039007',\n",
       "        'A080024001', 'A080024002', 'A080024003', 'A080024004',\n",
       "        'A080024005', 'A080024006', 'A060041001', 'A060041002',\n",
       "        'A060041003', 'A060041004', 'A060041005', 'A060041006',\n",
       "        'A060041007', 'A080035001', 'A080035002', 'A080035003',\n",
       "        'A080035004', 'A080035005', 'A080035006', 'A080035007',\n",
       "        'A080035008', 'A060043001', 'A060043002', 'A060043003',\n",
       "        'A060043004', 'A060043005', 'A060043006', 'A060043007',\n",
       "        'A080036001', 'A080036002', 'A080036003', 'A080036004',\n",
       "        'A080036005', 'A080036006', 'A080036007', 'A080036008',\n",
       "        'A080037001', 'A080037002', 'A080037003', 'A080037004',\n",
       "        'A080037005', 'A080037006', 'A080037007', 'A080037008',\n",
       "        'A060052001', 'A060052002', 'A060052003', 'A060052004',\n",
       "        'A060052005', 'A060052006', 'A060052007', 'A060054001',\n",
       "        'A060054002', 'A060054003', 'A060054004', 'A060054005',\n",
       "        'A060054006', 'A060054007', 'A080038001', 'A080038002',\n",
       "        'A080038003', 'A080038004', 'A080038005', 'A080038006',\n",
       "        'A080038008', 'A080038007', 'A060056001', 'A060056002',\n",
       "        'A060056003', 'A060056004', 'A060056005', 'A060056006',\n",
       "        'A060056007', 'A080039001', 'A080039003', 'A080039002',\n",
       "        'A080039004', 'A080039006', 'A080039005', 'A080039007',\n",
       "        'A080039008', 'A060058001', 'A060058002', 'A060058003',\n",
       "        'A060058004', 'A060058005', 'A060058006', 'A060058007',\n",
       "        'A060060001', 'A060060002', 'A060060003', 'A060060004',\n",
       "        'A060060005', 'A060060006', 'A060060007', 'A080040001',\n",
       "        'A080040002', 'A080040003', 'A080040004', 'A080040005',\n",
       "        'A080040006', 'A060062001', 'A060062002', 'A060062003',\n",
       "        'A060062004', 'A060062005', 'A060062006', 'A060062007',\n",
       "        'A080041001', 'A080041002', 'A080041003', 'A080041004',\n",
       "        'A080041005', 'A080041006', 'A080042001', 'A080042002',\n",
       "        'A080042003', 'A080042004', 'A080042005', 'A080042006',\n",
       "        'A080042007', 'A080042008', 'A060070001', 'A060070002',\n",
       "        'A060070003', 'A060070004', 'A060070005', 'A060070006',\n",
       "        'A060070007', 'A060072001', 'A060072002', 'A060072003',\n",
       "        'A060072004', 'A060072005', 'A060072006', 'A060072007',\n",
       "        'A080043001', 'A080043002', 'A080043003', 'A080043004',\n",
       "        'A080043005', 'A080043006', 'A080043007', 'A080043008',\n",
       "        'A060074001', 'A060074002', 'A060074003', 'A060074004',\n",
       "        'A060074005', 'A060074006', 'A060074007', 'A080044008',\n",
       "        'A080044007', 'A080044006', 'A080044005', 'A080044004',\n",
       "        'A080044003', 'A080044001', 'A080044002', 'A060076001',\n",
       "        'A060076002', 'A060076003', 'A060076004', 'A060076005',\n",
       "        'A060076006', 'A060076007', 'A060078001', 'A060078002',\n",
       "        'A060078003', 'A060078004', 'A060078005', 'A060078006',\n",
       "        'A060078007', 'A080046001', 'A080046002', 'A080046003',\n",
       "        'A080046004', 'A080046005', 'A080046006', 'A080046007',\n",
       "        'A080046008', 'A080048001', 'A080048002', 'A080048003',\n",
       "        'A080048004', 'A080048005', 'A080048006', 'A080048007',\n",
       "        'A080048008', 'A060085001', 'A060085002', 'A060085003',\n",
       "        'A060085004', 'A060085005', 'A060085006', 'A060085007',\n",
       "        'A060087001', 'A060087002', 'A060087003', 'A060087004',\n",
       "        'A060087005', 'A060087006', 'A060087007', 'A060089001',\n",
       "        'A060089002', 'A060089003', 'A060089004', 'A060089005',\n",
       "        'A060089006', 'A060089007', 'A060091001', 'A060091002',\n",
       "        'A060091003', 'A060091004', 'A060091005', 'A060091006',\n",
       "        'A060091007', 'A060093001', 'A060093002', 'A060093003',\n",
       "        'A060093004', 'A060094001', 'A060094002', 'A060094003',\n",
       "        'A060094004', 'A060094005', 'A060094006', 'A060094007',\n",
       "        'A060094008', 'A060094009', 'A060095001', 'A060095002',\n",
       "        'A060095003', 'A060095004', 'A060095005', 'A060096001',\n",
       "        'A060096002', 'A060096003', 'A060096004', 'A060096005',\n",
       "        'A060096006', 'A060096007', 'A060096008', 'A060096009',\n",
       "        'A080062001', 'A080062002', 'A080062004', 'A080062003',\n",
       "        'A080062006', 'A080062005', 'A080070001', 'A080070002',\n",
       "        'A080070003', 'A080070004', 'A080070005', 'A080070006',\n",
       "        'A080070007', 'A080070008', 'A080072001', 'A080072002',\n",
       "        'A080072003', 'A080072004', 'A080072005', 'A080072006',\n",
       "        'A080072007', 'A080072008', 'A080076001', 'A080076002',\n",
       "        'A080076003', 'A080076004', 'A080076005', 'A080076006',\n",
       "        'A080076007', 'A080076008', 'A080078001', 'A080078002',\n",
       "        'A080078003', 'A080078004', 'A080078005', 'A080078006',\n",
       "        'A080078007', 'A080078008', 'A060097001', 'A060097002',\n",
       "        'A060097003', 'A060097004', 'A060097005', 'A060097006',\n",
       "        'A060097007', 'A080080001', 'A080080002', 'A080080003',\n",
       "        'A080080004', 'A080080005', 'A080080006', 'A080080007',\n",
       "        'A080080008', 'A060099001', 'A060099002', 'A060099003',\n",
       "        'A060099004', 'A060099005', 'A060099006', 'A060099007',\n",
       "        'A080082001', 'A080082002', 'A080082003', 'A080082004',\n",
       "        'A080082005', 'A080082006', 'A060101001', 'A060101002',\n",
       "        'A060101003', 'A060101004', 'A060101005', 'A060101006',\n",
       "        'A060101007', 'A080084001', 'A080084002', 'A080084003',\n",
       "        'A080084004', 'A080084005', 'A080084006', 'A080084007',\n",
       "        'A080084008', 'A060103001', 'A060103002', 'A060103003',\n",
       "        'A060103004', 'A060103005', 'A060103006', 'A060103007',\n",
       "        'A080086001', 'A080086002', 'A080086003', 'A080086004',\n",
       "        'A080086005', 'A080086006', 'A060105001', 'A060105002',\n",
       "        'A060105003', 'A060105004', 'A060105005', 'A060105006',\n",
       "        'A060105007', 'A080088001', 'A080088002', 'A080088003',\n",
       "        'A080088004', 'A080088005', 'A080088006', 'A080088007',\n",
       "        'A080088008', 'A060107001', 'A060107002', 'A060107003',\n",
       "        'A060107004', 'A060107005', 'A060107006', 'A060107007',\n",
       "        'A080090001', 'A080090005', 'A080090006', 'A080090004',\n",
       "        'A080090003', 'A080090002', 'A080092001', 'A080092003',\n",
       "        'A080092002', 'A080092004', 'A080092005', 'A080092008',\n",
       "        'A080092006', 'A080092007', 'A080094001', 'A080094002',\n",
       "        'A080094003', 'A080094004', 'A080094005', 'A080094006',\n",
       "        'A080096008', 'A080096001', 'A080096002', 'A080096003',\n",
       "        'A080096004', 'A080096005', 'A080096006', 'A080096007',\n",
       "        'A080098001', 'A080098002', 'A080098003', 'A080098004',\n",
       "        'A080098005', 'A080098006', 'A080098007', 'A080098008',\n",
       "        'A020172001', 'A020172002', 'A020172003', 'A020172004',\n",
       "        'A020172005', 'A020172006', 'A060121001', 'A060121002',\n",
       "        'A060121003', 'A060121004', 'A060121005', 'A060121006',\n",
       "        'A060121007', 'A080100001', 'A080100002', 'A080100003',\n",
       "        'A080100004', 'A080100005', 'A080100006', 'A080100007',\n",
       "        'A080100008', 'A060123001', 'A060123002', 'A060123003',\n",
       "        'A060123004', 'A060123005', 'A060123006', 'A060123007',\n",
       "        'A060125001', 'A060125002', 'A060125003', 'A060125004',\n",
       "        'A060125005', 'A060125006', 'A060125007', 'A080102001',\n",
       "        'A080102002', 'A080102003', 'A080102004', 'A080102005',\n",
       "        'A080102006', 'A080102007', 'A080102008', 'A020174001',\n",
       "        'A020174002', 'A020174003', 'A020174004', 'A020174005',\n",
       "        'A020181001', 'A020181002', 'A020181003', 'A020181004',\n",
       "        'A020181005', 'A020181006', 'A060127001', 'A060127002',\n",
       "        'A060127003', 'A060127004', 'A060127005', 'A060127006',\n",
       "        'A060127007', 'A060129001', 'A060129002', 'A060129003',\n",
       "        'A060129004', 'A060129005', 'A060129006', 'A060129007',\n",
       "        'A020182001', 'A020182002', 'A020182003', 'A020182004',\n",
       "        'A020182005', 'A060131001', 'A060131002', 'A060131003',\n",
       "        'A060131004', 'A060131005', 'A060131006', 'A060131007',\n",
       "        'A020183001', 'A020183002', 'A020183003', 'A020183004',\n",
       "        'A020183005', 'A020183006', 'A020183007', 'A060119001',\n",
       "        'A060119002', 'A060119003', 'A060119004', 'A060119005',\n",
       "        'A060119006', 'A060115001', 'A060115002', 'A060115003',\n",
       "        'A060115004', 'A060115005', 'A060115006', 'A020192001',\n",
       "        'A020192002', 'A020192003', 'A020192004', 'A020192005',\n",
       "        'A020192006', 'A020192007', 'A080108001', 'A080108002',\n",
       "        'A080108003', 'A080108004', 'A080108005', 'A080108006',\n",
       "        'A080108007', 'A080108008', 'A080112001', 'A080112008',\n",
       "        'A080112002', 'A080112003', 'A080112004', 'A080112005',\n",
       "        'A080112006', 'A080112007', 'A080114001', 'A080114002',\n",
       "        'A080114003', 'A080114004', 'A080114005', 'A080114006',\n",
       "        'A080114007', 'A080114008', 'A080118001', 'A080118002',\n",
       "        'A080118003', 'A080118004', 'A080118005', 'A080118006',\n",
       "        'A080118007', 'A080118008', 'A080120001', 'A080120002',\n",
       "        'A080120003', 'A080120004', 'A080120005', 'A080120006',\n",
       "        'A080128001', 'A080128002', 'A080128003', 'A080128004',\n",
       "        'A080128005', 'A080128006', 'A080128007', 'A080128008',\n",
       "        'A080128009', 'A080128010', 'A080128011', 'A080129001',\n",
       "        'A080129002', 'A080129003', 'A080129004', 'A080129005',\n",
       "        'A080129006'], dtype=object),\n",
       " array([ 7224,  7225,  7225,  7225,  7225,  7225,  7226,  7226,  7226,\n",
       "         7226,  7226,  7226,  7226,  7227,  7228,  7228,  7228,  7228,\n",
       "         7227,  7228,  7229,  7229,  7229,  7229,  7229,  7229,  7229,\n",
       "         4605,  1394,  1396,  1397,  1396,  1395,  7230,  7230,  7230,\n",
       "         7230,  7230,  7230,  7230,   586,   587,   587,   586,   587,\n",
       "          587,   587,  1356,  1356,  1395,  1356,  1395,  1356,  1356,\n",
       "         1356,  4657,  1397,  1395,  1395,  4657,  1356,  1395,  1356,\n",
       "          588,   589,   589,   588,   589,   589,   588,   590,   590,\n",
       "          590,   590,   590,   590,   590,  4658,  4673,  1444,  4661,\n",
       "         1443,  4660,  4661,  4658,  1444,  1443,  4661,  1443,  4673,\n",
       "         1444,  4659,  1442,   592,   593,   593,   593,   593,   593,\n",
       "          593,  4659,  4658,  1444,  1444,  4671,  4668,  4659,  4664,\n",
       "         1444,  4660,  4663,  4663,  4662,  4663,  4668,  4662,  4665,\n",
       "         4669,  4669,  4665,  4669,  4664,  4672,  4672,   595,   594,\n",
       "          595,   595,   595,   594,   595,  4668,  4671,  4672,  4672,\n",
       "         4665,  4672,  4669,  4669,  4673,  4665,  4672,  4667,  4668,\n",
       "         4664,  4673,  4673,   596,   596,   596,   596,   596,   596,\n",
       "          596,   599,   599,   599,   599,   599,   599,   599,   598,\n",
       "          598,   598,   598,   598,   598,   598,   600,   600,   600,\n",
       "          600,   600,   600,   600,  4678,  4682,  4682,  4681,  4680,\n",
       "         4680,   601,   601,   601,   601,   601,   601,   601,  4682,\n",
       "         4682,  4682,  4681,  4685,  4680,   602,   602,   602,   602,\n",
       "          602,   602,   602,  4680,  4683,  4680,  4684,  4680,  4678,\n",
       "         4680,  4685,  9232,   603,  9232,  9232,  9232,   603,  9232,\n",
       "         4684,  4685,  4684,  4685,  4678,  4685,  2652,  2652,  4686,\n",
       "         4686,  4686,  4686,  4686,  4686,  7863,  4686,   606,   606,\n",
       "          606,   605,   605,   605,   605,   609,   609,   609,   609,\n",
       "          609,   609,   609,  4687,  4687,  4687,  4687,  4687,  4687,\n",
       "         4687,  4687,   610,   610,   610,   610,   610,   610,   610,\n",
       "         4805,  4688,  4688,  4688,  4688,  4688,  4805,  4688,   611,\n",
       "          611,   611,   611,   611,   611, 10603,   612,   612,   612,\n",
       "          612,   612,   612,   612,  4784,  4682,  4802,  4784,  4784,\n",
       "         4795, 10604, 10604, 10604,   614, 10604, 10604, 10604,  4803,\n",
       "         4784,  4784,  4784,  4795,  4784,  4795,  4793,  4795,  4784,\n",
       "         4784,  4797,  4784,  4795,  9557,  9557,   615,  9557,  9557,\n",
       "         9557,  9557,   616,   616,   616,   616,   616,   616,   616,\n",
       "         4795,  4795,  4793,  4795,  4784,  4784,  4784,  2848,   618,\n",
       "          618,   618,   618,   618,   618,   618,  4783,  4801,  4799,\n",
       "         4799,  4797,  4799,  4784,  4784, 10605, 10605, 10606, 10606,\n",
       "        10606, 10605, 10605,  9590,  9590,  9590,  9590,  9590,  9590,\n",
       "         9590,  4803,  4803,  2849,  2852,  4793,  2853,  2852,  4803,\n",
       "         4804,  4804,  4804,  4804,  4804,  4804,  4804,  4804, 10403,\n",
       "        10403, 10403, 10403, 10403, 10403, 10403, 10405, 10405,   623,\n",
       "          623,   624,   623,   623,   626,   626,   626,   625,   625,\n",
       "          626,   626,   627,   627,   628,   627,   628,   627,   627,\n",
       "        10403, 10403, 10403, 10403, 10404, 10405, 10405,   623,   623,\n",
       "          623,   623,   624,   624,   626,   626,   626,   626,   626,\n",
       "          627,   627,   627,   627,   627,   628,   627,   628,   628,\n",
       "         4967,  4970,  4970,  4971,  4967,  4967,  4975,  8794,  4975,\n",
       "         4975,  4975,  4975,  8794,  2887,  4974,  4974,  4974,  4974,\n",
       "         4976,  4976,  4974,  2887,  4978,  4979,  2887,  4979,  2887,\n",
       "         2887,  4979,  4979,  3097,  3097,    23,    23,    23,    25,\n",
       "         3097,    23,  9931,  9931,  9931,  9931,  9931,  9931,  9931,\n",
       "           26,    26,    26,    26,    26,    26, 10568,    26,   705,\n",
       "          705,   705,   705,   705,   705,   705,    30,    32,    32,\n",
       "           32,    32,    32,   706,   706,   706,   706,   706,   706,\n",
       "          706,    32,    32,    30,    32,    32,    32,    30,    31,\n",
       "          707,   707,   707,   707,   707,   707,   707,  1108,  1108,\n",
       "         1108,  1108,  1107,  1107,   708,   708,   708,   708,   708,\n",
       "          708,   708,  9497,  1108,  1108,  9497,  1108,  1107,  1108,\n",
       "         9497,   709,   709,   709,   709,   709,   709,   709,  1110,\n",
       "         1110,  1110,  1110,  1110,  1110,  1110,  8931,  1110,  1110,\n",
       "         1110,  1110,  1110,  1110,  7034,  7034,  7034,  7034,  7034,\n",
       "         7034,  8931,  7034,  8931,  8931,  8931,  8931,  8931,  8931,\n",
       "         7120,  7120,  1117,  1110,  7171,  7171,  7171,  1120,  8132,\n",
       "         8132,  8132,  8132,  8132,  8132,   710,   710,   710,   710,\n",
       "          710,   710,   710,  7126,  7125,  7126,  7171,  7167,  7167,\n",
       "         7167,  7167,   711,   711,   711,   711,   711,   711,   711,\n",
       "          712,   712,   712,   712,   712,   712,   712,  7170,  7170,\n",
       "         7170,  7170,  7170,  7172,  7172,  7170,  8134,  8134,  8134,\n",
       "         8134,  8134,  8135,  8135,  8135,  8135,  8135,  8135,   713,\n",
       "          713,   713,   713,   713,   713,   713,   714,   714,   714,\n",
       "          714,   714,   714,   714,  8137,  8137,  8137,  8137,  8137,\n",
       "          770,   770,   770,   770,   770,   770,   770,  8136,  8136,\n",
       "         8091,  8091,  8136,  8091,  8091,   710,   710,   710,   710,\n",
       "          710,   710,   711,   711,   711,   711,   711,   711,  8092,\n",
       "         8092,  8092,  8092,  8093,  8093,  8093,  1184,  1184,  1184,\n",
       "         8289,  1184,  1184,  1184,  1184,  2711,  2711,  2711,  8289,\n",
       "         8289,  2711,  1185,  2711,  1200,  1203,  1203,  1203,  1200,\n",
       "         1200,  1200,  1200,  9519,  9519,  9519,  9519,  9519, 10572,\n",
       "        10572, 10572,  1203,  1203,  1203,  1203,  1203,  1201,  8404,\n",
       "         8404,  8404,  8404,  8404,  8404,  8404,  8404,  8404,  8404,\n",
       "         8404,  2723,  2723,  2725,  2725,  2725,  2725]),\n",
       " array([1, 1, 1, 1, 1, 1, 0, 1, 1, 1, 1, 1, 1, 1, 1, 1, 1, 1, 0, 1, 1, 1,\n",
       "        1, 1, 1, 1, 1, 1, 1, 1, 1, 0, 1, 1, 1, 1, 1, 1, 1, 0, 1, 1, 1, 1,\n",
       "        0, 1, 1, 0, 1, 0, 1, 1, 1, 0, 0, 1, 1, 1, 1, 1, 1, 0, 0, 1, 1, 1,\n",
       "        1, 1, 1, 1, 1, 1, 1, 1, 1, 1, 0, 0, 1, 1, 1, 0, 1, 0, 0, 1, 0, 0,\n",
       "        0, 0, 1, 0, 0, 1, 0, 1, 1, 1, 0, 1, 1, 1, 0, 1, 1, 1, 0, 0, 0, 1,\n",
       "        0, 0, 0, 0, 0, 0, 1, 1, 0, 1, 1, 1, 1, 0, 1, 1, 1, 1, 1, 1, 0, 1,\n",
       "        1, 0, 0, 0, 1, 0, 0, 1, 1, 1, 1, 0, 1, 0, 0, 1, 1, 1, 1, 1, 1, 1,\n",
       "        1, 1, 0, 0, 0, 0, 0, 1, 1, 1, 0, 1, 0, 0, 0, 1, 1, 1, 0, 1, 0, 1,\n",
       "        0, 1, 1, 1, 1, 1, 1, 1, 1, 0, 1, 0, 1, 1, 0, 0, 0, 1, 1, 1, 0, 0,\n",
       "        1, 0, 0, 1, 0, 1, 1, 1, 0, 0, 0, 1, 1, 1, 1, 1, 1, 0, 0, 1, 0, 1,\n",
       "        1, 0, 0, 0, 0, 1, 1, 0, 1, 0, 0, 1, 1, 1, 1, 1, 0, 0, 0, 1, 1, 1,\n",
       "        1, 1, 1, 0, 0, 1, 0, 1, 0, 1, 0, 0, 1, 0, 1, 1, 1, 0, 0, 1, 0, 0,\n",
       "        0, 1, 0, 0, 0, 1, 0, 0, 1, 1, 0, 0, 1, 1, 1, 1, 1, 1, 1, 1, 0, 0,\n",
       "        0, 0, 0, 1, 1, 1, 1, 1, 0, 0, 1, 0, 0, 1, 1, 0, 1, 1, 0, 1, 0, 0,\n",
       "        0, 1, 1, 1, 1, 1, 1, 1, 1, 1, 1, 1, 1, 0, 1, 1, 0, 0, 0, 1, 0, 0,\n",
       "        0, 0, 1, 1, 1, 1, 1, 1, 0, 1, 0, 0, 0, 0, 0, 1, 0, 1, 1, 1, 1, 1,\n",
       "        0, 1, 1, 0, 1, 1, 1, 1, 1, 0, 0, 1, 0, 0, 0, 1, 1, 0, 0, 0, 0, 1,\n",
       "        1, 0, 1, 1, 1, 1, 1, 1, 1, 1, 0, 1, 1, 1, 0, 1, 1, 1, 1, 0, 0, 0,\n",
       "        0, 0, 1, 1, 1, 1, 1, 1, 1, 0, 1, 1, 1, 1, 1, 1, 1, 0, 1, 1, 0, 1,\n",
       "        1, 0, 1, 1, 0, 1, 1, 1, 1, 0, 1, 0, 1, 0, 0, 1, 1, 0, 0, 1, 1, 0,\n",
       "        0, 0, 0, 1, 0, 1, 0, 0, 0, 1, 0, 1, 0, 0, 1, 1, 1, 0, 0, 1, 0, 1,\n",
       "        1, 0, 0, 0, 0, 0, 1, 0, 1, 1, 1, 1, 1, 1, 1, 1, 1, 0, 0, 1, 0, 0,\n",
       "        0, 1, 1, 1, 1, 1, 0, 1, 1, 1, 0, 1, 0, 0, 1, 1, 1, 1, 1, 1, 1, 0,\n",
       "        1, 0, 1, 1, 1, 0, 1, 1, 1, 1, 1, 1, 1, 1, 1, 0, 0, 0, 0, 0, 1, 1,\n",
       "        1, 1, 1, 0, 0, 1, 0, 1, 0, 1, 1, 0, 1, 1, 1, 1, 1, 1, 0, 0, 0, 0,\n",
       "        1, 0, 0, 1, 0, 1, 1, 1, 0, 1, 1, 1, 1, 0, 0, 0, 0, 0, 0, 1, 1, 1,\n",
       "        0, 0, 1, 0, 1, 0, 1, 0, 0, 0, 1, 0, 1, 1, 1, 1, 0, 0, 1, 1, 1, 1,\n",
       "        1, 1, 1, 1, 1, 1, 1, 1, 0, 0, 1, 1, 1, 0, 1, 0, 1, 1, 1, 1, 1, 1,\n",
       "        0, 1, 0, 1, 1, 0, 0, 0, 1, 0, 1, 1, 1, 1, 1, 0, 1, 0, 1, 1, 0, 0,\n",
       "        1, 1, 1, 1, 1, 1, 1, 1, 1, 1, 1, 0, 0, 0, 1, 1, 1, 1, 1, 1, 1, 1,\n",
       "        1, 1, 0, 1, 1, 1, 1, 1, 1, 1, 1, 1, 1, 0, 1, 1, 1, 1, 1, 1, 1, 1,\n",
       "        1, 0, 1, 1, 1, 0, 0, 0, 0, 1, 0, 0, 0, 0, 0, 0, 1, 1, 0, 0, 1, 1,\n",
       "        1, 0, 1, 1, 0, 0, 0, 1, 0, 1, 1, 1, 1, 0, 0, 1, 0, 1, 1, 1, 1, 0,\n",
       "        0, 0, 1, 1, 1, 1, 1, 1, 1, 1, 0, 1, 0, 1, 1, 0, 1, 0, 0]))"
      ]
     },
     "execution_count": 55,
     "metadata": {},
     "output_type": "execute_result"
    }
   ],
   "source": [
    "group1.values[0]"
   ]
  },
  {
   "cell_type": "code",
   "execution_count": 62,
   "metadata": {},
   "outputs": [
    {
     "data": {
      "text/plain": [
       "4"
      ]
     },
     "execution_count": 62,
     "metadata": {},
     "output_type": "execute_result"
    }
   ],
   "source": [
    "len(group2.values[0])"
   ]
  },
  {
   "cell_type": "code",
   "execution_count": 63,
   "metadata": {},
   "outputs": [
    {
     "data": {
      "text/plain": [
       "(array(['A020000172', 'A020000172', 'A020000172', 'A020000172',\n",
       "        'A020000172', 'A020000172'], dtype=object),\n",
       " array(['A020172001', 'A020172002', 'A020172003', 'A020172004',\n",
       "        'A020172005', 'A020172006'], dtype=object),\n",
       " array([8132, 8132, 8132, 8132, 8132, 8132]),\n",
       " array([1, 1, 1, 1, 0, 0]))"
      ]
     },
     "execution_count": 63,
     "metadata": {},
     "output_type": "execute_result"
    }
   ],
   "source": [
    "group2.values[0]"
   ]
  },
  {
   "cell_type": "code",
   "execution_count": 118,
   "metadata": {},
   "outputs": [
    {
     "data": {
      "text/plain": [
       "66     7\n",
       "52     7\n",
       "22     7\n",
       "31     7\n",
       "15     7\n",
       "      ..\n",
       "720    1\n",
       "580    1\n",
       "868    1\n",
       "790    1\n",
       "28     1\n",
       "Name: assessmentItemID, Length: 480, dtype: int64"
      ]
     },
     "execution_count": 118,
     "metadata": {},
     "output_type": "execute_result"
    }
   ],
   "source": [
    "test_df.groupby('userID')['assessmentItemID'].count().value_counts()"
   ]
  },
  {
   "cell_type": "code",
   "execution_count": 119,
   "metadata": {},
   "outputs": [
    {
     "data": {
      "text/plain": [
       "<AxesSubplot: >"
      ]
     },
     "execution_count": 119,
     "metadata": {},
     "output_type": "execute_result"
    },
    {
     "data": {
      "image/png": "[encoded data removed]",
      "text/plain": [
       "<Figure size 640x480 with 1 Axes>"
      ]
     },
     "metadata": {},
     "output_type": "display_data"
    }
   ],
   "source": [
    "test_df.groupby('userID')['assessmentItemID'].count().hist()"
   ]
  },
  {
   "cell_type": "code",
   "execution_count": 120,
   "metadata": {},
   "outputs": [
    {
     "data": {
      "text/plain": [
       "5     17613\n",
       "6      7838\n",
       "7      6934\n",
       "8      5303\n",
       "9      1476\n",
       "4      1403\n",
       "10      509\n",
       "12      392\n",
       "3       196\n",
       "14      108\n",
       "16       82\n",
       "11       80\n",
       "13       31\n",
       "2        29\n",
       "18       19\n",
       "24        8\n",
       "20        3\n",
       "22        1\n",
       "Name: assessmentItemID, dtype: int64"
      ]
     },
     "execution_count": 120,
     "metadata": {},
     "output_type": "execute_result"
    }
   ],
   "source": [
    "test_df.groupby(['userID' ,'testId'])['assessmentItemID'].count().value_counts()"
   ]
  },
  {
   "cell_type": "code",
   "execution_count": 121,
   "metadata": {},
   "outputs": [
    {
     "data": {
      "text/plain": [
       "<AxesSubplot: >"
      ]
     },
     "execution_count": 121,
     "metadata": {},
     "output_type": "execute_result"
    },
    {
     "data": {
      "image/png": "[encoded data removed]",
      "text/plain": [
       "<Figure size 640x480 with 1 Axes>"
      ]
     },
     "metadata": {},
     "output_type": "display_data"
    }
   ],
   "source": [
    "test_df.groupby(['userID' ,'testId'])['assessmentItemID'].count().hist()"
   ]
  },
  {
   "cell_type": "code",
   "execution_count": 105,
   "metadata": {},
   "outputs": [],
   "source": [
    "group3 = (  # 각 유저-테스트별 [[[testId], assessmentItemID], [KnowledgeTag], [answerCode]]\n",
    "    test_df[columns]\n",
    "    .groupby([\"userID\", \"testId\"])\n",
    "    .apply(\n",
    "        lambda r: (\n",
    "            #r[\"userID\"].values,\n",
    "            r[\"testId\"].values,\n",
    "            r[\"assessmentItemID\"].values,\n",
    "            r[\"KnowledgeTag\"].values,\n",
    "            r[\"answerCode\"].values,\n",
    "        )\n",
    "    )\n",
    ")"
   ]
  },
  {
   "cell_type": "code",
   "execution_count": 107,
   "metadata": {},
   "outputs": [
    {
     "data": {
      "text/plain": [
       "(42025,)"
      ]
     },
     "execution_count": 107,
     "metadata": {},
     "output_type": "execute_result"
    }
   ],
   "source": [
    "group3.values.shape"
   ]
  },
  {
   "cell_type": "code",
   "execution_count": 109,
   "metadata": {},
   "outputs": [
    {
     "data": {
      "text/plain": [
       "4"
      ]
     },
     "execution_count": 109,
     "metadata": {},
     "output_type": "execute_result"
    }
   ],
   "source": [
    "len(group3.values[0])"
   ]
  },
  {
   "cell_type": "code",
   "execution_count": 110,
   "metadata": {},
   "outputs": [
    {
     "data": {
      "text/plain": [
       "(array(['A020000001', 'A020000001', 'A020000001', 'A020000001',\n",
       "        'A020000001'], dtype=object),\n",
       " array(['A020001001', 'A020001002', 'A020001003', 'A020001004',\n",
       "        'A020001005'], dtype=object),\n",
       " array([7916, 7916, 7916, 7916, 7916]),\n",
       " array([1, 1, 1, 1, 0]))"
      ]
     },
     "execution_count": 110,
     "metadata": {},
     "output_type": "execute_result"
    }
   ],
   "source": [
    "group3.values[0]"
   ]
  },
  {
   "cell_type": "code",
   "execution_count": 117,
   "metadata": {},
   "outputs": [
    {
     "data": {
      "text/plain": [
       "False"
      ]
     },
     "execution_count": 117,
     "metadata": {},
     "output_type": "execute_result"
    }
   ],
   "source": [
    "-1 in group3.values[0][3]"
   ]
  },
  {
   "cell_type": "code",
   "execution_count": 136,
   "metadata": {},
   "outputs": [],
   "source": [
    "tmp = []\n",
    "for i in range(len(group3.values)):\n",
    "    if -1 in group3.values[i][3]:\n",
    "        tmp.append(group3.values[i])"
   ]
  },
  {
   "cell_type": "code",
   "execution_count": 137,
   "metadata": {},
   "outputs": [
    {
     "data": {
      "text/plain": [
       "744"
      ]
     },
     "execution_count": 137,
     "metadata": {},
     "output_type": "execute_result"
    }
   ],
   "source": [
    "len(tmp)"
   ]
  },
  {
   "cell_type": "code",
   "execution_count": 138,
   "metadata": {},
   "outputs": [
    {
     "data": {
      "text/plain": [
       "(array(['A050000133', 'A050000133', 'A050000133', 'A050000133',\n",
       "        'A050000133', 'A050000133', 'A050000133', 'A050000133'],\n",
       "       dtype=object),\n",
       " array(['A050133001', 'A050133002', 'A050133003', 'A050133004',\n",
       "        'A050133005', 'A050133006', 'A050133007', 'A050133008'],\n",
       "       dtype=object),\n",
       " array([5288, 5288, 5289, 5289, 5288, 5288, 5289, 5289]),\n",
       " array([ 1,  1,  1,  1,  1,  1,  0, -1]))"
      ]
     },
     "execution_count": 138,
     "metadata": {},
     "output_type": "execute_result"
    }
   ],
   "source": [
    "tmp[0]"
   ]
  },
  {
   "cell_type": "markdown",
   "metadata": {},
   "source": [
    "## valid split"
   ]
  },
  {
   "cell_type": "markdown",
   "metadata": {},
   "source": [
    "테스트 셋과 동일한 조건으로 나누자\n",
    "\n",
    "유저 기준으로 10~20% 정도 비율의 userID를 정해서 마지막 시퀀스를 valid로 처리"
   ]
  },
  {
   "cell_type": "code",
   "execution_count": 29,
   "metadata": {},
   "outputs": [
    {
     "data": {
      "text/plain": [
       "(365164,)"
      ]
     },
     "execution_count": 29,
     "metadata": {},
     "output_type": "execute_result"
    }
   ],
   "source": [
    "# 현재 코드 기준으로는 userid를 알 수 없어서 불가능...\n",
    "group2.values.shape"
   ]
  },
  {
   "cell_type": "code",
   "execution_count": 4,
   "metadata": {},
   "outputs": [],
   "source": [
    "columns = [\"userID\", \"assessmentItemID\", \"testId\", \"answerCode\", \"KnowledgeTag\"]\n",
    "\n",
    "df = pd.concat([train_df, test_df])\n",
    "df = df.sort_values(by=[\"userID\", \"testId\", \"Timestamp\"], axis=0)\n",
    "group5 = (  # 각 유저-테스트별 [[[testId], assessmentItemID], [KnowledgeTag], [answerCode]]\n",
    "    df[columns]\n",
    "    .groupby([\"userID\", \"testId\"])\n",
    "    .apply(\n",
    "        lambda r: (\n",
    "            #r[\"userID\"].values,\n",
    "            r[\"testId\"].values,\n",
    "            r[\"assessmentItemID\"].values,\n",
    "            r[\"KnowledgeTag\"].values,\n",
    "            r[\"answerCode\"].values,\n",
    "        )\n",
    "    )\n",
    ")"
   ]
  },
  {
   "cell_type": "code",
   "execution_count": 27,
   "metadata": {},
   "outputs": [
    {
     "data": {
      "text/plain": [
       "userID  testId      assessmentItemID  answerCode  Timestamp            KnowledgeTag\n",
       "0       A020000172  A020172001        1           2020-10-11 11:06:47  8132            1\n",
       "                    A020172002        1           2020-10-11 11:06:56  8132            1\n",
       "                    A020172003        1           2020-10-11 11:07:13  8132            1\n",
       "                    A020172004        1           2020-10-11 11:07:46  8132            1\n",
       "                    A020172005        0           2020-10-11 11:08:20  8132            1\n",
       "                                                                                      ..\n",
       "7441    A030000071  A030071005        0           2020-06-05 06:50:21  438             1\n",
       "        A040000165  A040165001        1           2020-08-21 01:06:39  8836            1\n",
       "                    A040165002        1           2020-08-21 01:06:50  8836            1\n",
       "                    A040165003        1           2020-08-21 01:07:36  8836            1\n",
       "                    A040165004        1           2020-08-21 01:08:49  8836            1\n",
       "Length: 2526700, dtype: int64"
      ]
     },
     "execution_count": 27,
     "metadata": {},
     "output_type": "execute_result"
    }
   ],
   "source": [
    "df.groupby([\"userID\", \"testId\"]).value_counts()"
   ]
  },
  {
   "cell_type": "code",
   "execution_count": null,
   "metadata": {},
   "outputs": [],
   "source": [
    "ui = group5.count('userID').values"
   ]
  },
  {
   "cell_type": "code",
   "execution_count": 29,
   "metadata": {},
   "outputs": [
    {
     "data": {
      "text/plain": [
       "array([104, 153,  48, ...,   3,   3,   2])"
      ]
     },
     "execution_count": 29,
     "metadata": {},
     "output_type": "execute_result"
    }
   ],
   "source": [
    "ui"
   ]
  },
  {
   "cell_type": "code",
   "execution_count": 24,
   "metadata": {},
   "outputs": [
    {
     "data": {
      "text/plain": [
       "(array(['A030000001', 'A030000001', 'A030000001', 'A030000001',\n",
       "        'A030000001'], dtype=object),\n",
       " array(['A030001001', 'A030001002', 'A030001003', 'A030001004',\n",
       "        'A030001005'], dtype=object),\n",
       " array([307, 307, 307, 307, 307]),\n",
       " array([1, 1, 1, 1, 1]))"
      ]
     },
     "execution_count": 24,
     "metadata": {},
     "output_type": "execute_result"
    }
   ],
   "source": [
    "group5.values[ui[0]+ui[1]]"
   ]
  },
  {
   "cell_type": "markdown",
   "metadata": {},
   "source": [
    "## test data 활용"
   ]
  },
  {
   "cell_type": "code",
   "execution_count": 24,
   "metadata": {},
   "outputs": [
    {
     "name": "stdout",
     "output_type": "stream",
     "text": [
      "(2266586, 6) (260114, 6) 2526700\n"
     ]
    }
   ],
   "source": [
    "print(train_df.shape, test_df.shape, len(train_df)+len(test_df))"
   ]
  },
  {
   "cell_type": "code",
   "execution_count": 83,
   "metadata": {},
   "outputs": [],
   "source": [
    "total_df = pd.concat([train_df, test_df])"
   ]
  },
  {
   "cell_type": "code",
   "execution_count": 84,
   "metadata": {},
   "outputs": [],
   "source": [
    "group4 = (  # 각 유저-테스트별 [[[testId], assessmentItemID], [KnowledgeTag], [answerCode]]\n",
    "    total_df[columns]\n",
    "    .groupby([\"userID\", \"testId\"])\n",
    "    .apply(\n",
    "        lambda r: (\n",
    "            #r[\"userID\"].values,\n",
    "            r[\"testId\"].values,\n",
    "            r[\"assessmentItemID\"].values,\n",
    "            r[\"KnowledgeTag\"].values,\n",
    "            r[\"answerCode\"].values,\n",
    "        )\n",
    "    )\n",
    ")"
   ]
  },
  {
   "cell_type": "code",
   "execution_count": 88,
   "metadata": {},
   "outputs": [
    {
     "data": {
      "text/plain": [
       "userID  testId    \n",
       "0       A020000172    ([A020000172, A020000172, A020000172, A0200001...\n",
       "        A020000174    ([A020000174, A020000174, A020000174, A0200001...\n",
       "        A020000181    ([A020000181, A020000181, A020000181, A0200001...\n",
       "        A020000182    ([A020000182, A020000182, A020000182, A0200001...\n",
       "        A020000183    ([A020000183, A020000183, A020000183, A0200001...\n",
       "                                            ...                        \n",
       "7440    A030000136    ([A030000136, A030000136, A030000136, A0300001...\n",
       "        A030000197    ([A030000197, A030000197, A030000197, A0300001...\n",
       "        A050000096    ([A050000096, A050000096, A050000096, A0500000...\n",
       "7441    A030000071    ([A030000071, A030000071, A030000071, A0300000...\n",
       "        A040000165    ([A040000165, A040000165, A040000165, A0400001...\n",
       "Length: 407189, dtype: object"
      ]
     },
     "execution_count": 88,
     "metadata": {},
     "output_type": "execute_result"
    }
   ],
   "source": [
    "group4"
   ]
  },
  {
   "cell_type": "code",
   "execution_count": 109,
   "metadata": {},
   "outputs": [
    {
     "data": {
      "text/plain": [
       "(array(['A020000172', 'A020000172', 'A020000172', 'A020000172',\n",
       "        'A020000172', 'A020000172'], dtype=object),\n",
       " array(['A020172001', 'A020172002', 'A020172003', 'A020172004',\n",
       "        'A020172005', 'A020172006'], dtype=object),\n",
       " array([8132, 8132, 8132, 8132, 8132, 8132]),\n",
       " array([1, 1, 1, 1, 0, 0]))"
      ]
     },
     "execution_count": 109,
     "metadata": {},
     "output_type": "execute_result"
    }
   ],
   "source": [
    "group4.values[0]"
   ]
  },
  {
   "cell_type": "markdown",
   "metadata": {},
   "source": [
    "# asset 파일도 수정해야 할까?"
   ]
  },
  {
   "cell_type": "code",
   "execution_count": null,
   "metadata": {},
   "outputs": [],
   "source": [
    "from sklearn.preprocessing import LabelEncoder\n",
    "\n",
    "cate_cols = [\"assessmentItemID\", \"testId\", \"KnowledgeTag\"]\n",
    "is_train = True\n",
    "\n",
    "for col in cate_cols:\n",
    "\n",
    "    le = LabelEncoder()\n",
    "    if is_train:\n",
    "        # For UNKNOWN class\n",
    "        a = df[col].unique().tolist() + [\"unknown\"]\n",
    "        le.fit(a)\n",
    "        self.__save_labels(le, col)\n",
    "    else:\n",
    "        label_path = os.path.join(self.args.asset_dir, col + \"_classes.npy\")\n",
    "        le.classes_ = np.load(label_path)\n",
    "\n",
    "        df[col] = df[col].apply(\n",
    "            lambda x: x if str(x) in le.classes_ else \"unknown\"\n",
    "        )\n",
    "\n",
    "    # 모든 컬럼이 범주형이라고 가정\n",
    "    df[col] = df[col].astype(str)\n",
    "    test = le.transform(df[col])\n",
    "    df[col] = test"
   ]
  },
  {
   "cell_type": "code",
   "execution_count": 3,
   "metadata": {},
   "outputs": [
    {
     "name": "stdout",
     "output_type": "stream",
     "text": [
      "<class 'pandas.core.frame.DataFrame'>\n",
      "RangeIndex: 2266586 entries, 0 to 2266585\n",
      "Data columns (total 6 columns):\n",
      " #   Column            Dtype \n",
      "---  ------            ----- \n",
      " 0   userID            int64 \n",
      " 1   assessmentItemID  object\n",
      " 2   testId            object\n",
      " 3   answerCode        int64 \n",
      " 4   Timestamp         object\n",
      " 5   KnowledgeTag      int64 \n",
      "dtypes: int64(3), object(3)\n",
      "memory usage: 103.8+ MB\n"
     ]
    }
   ],
   "source": [
    "train_df.info()"
   ]
  },
  {
   "cell_type": "code",
   "execution_count": 10,
   "metadata": {},
   "outputs": [
    {
     "name": "stdout",
     "output_type": "stream",
     "text": [
      "userID: 6698 744\n",
      "assessmentItemID: 9454 9454\n",
      "testId: 1537 1537\n",
      "KnowledgeTag: 912 912\n",
      "Timestamp: 2076774 256622\n"
     ]
    }
   ],
   "source": [
    "print('userID:', len(set(train_df['userID'].values)), len(set(test_df['userID'].values)))   # userID는 겹치지 않아서 변수로 넣어주려면 npy를 따로 만들던가 실수로 넣어주기 -> KnowledgeTag는 int형인데 인코딩해서 카테고리컬로 넣어줌..\n",
    "print('assessmentItemID:', len(set(train_df['assessmentItemID'].values)), len(set(test_df['assessmentItemID'].values)))\n",
    "print('testId:', len(set(train_df['testId'].values)), len(set(test_df['testId'].values)))\n",
    "print('KnowledgeTag:', len(set(train_df['KnowledgeTag'].values)), len(set(test_df['KnowledgeTag'].values)))\n",
    "print('Timestamp:', len(set(train_df['Timestamp'].values)), len(set(test_df['Timestamp'].values)))\n",
    "# npy파일을 따로 만들 필요는 없겠다. timestamp는 인코딩 안하고 numeric 값으로 넣을까? => 아니면 주요한 피쳐만(month, hour + day) 뽑아서 카테고리컬 인코딩?"
   ]
  },
  {
   "cell_type": "markdown",
   "metadata": {},
   "source": [
    "# 시퀀스에 피쳐 추가"
   ]
  },
  {
   "cell_type": "markdown",
   "metadata": {},
   "source": [
    "## Timestamp"
   ]
  },
  {
   "cell_type": "code",
   "execution_count": 47,
   "metadata": {},
   "outputs": [],
   "source": [
    "import time\n",
    "from datetime import datetime"
   ]
  },
  {
   "cell_type": "code",
   "execution_count": 50,
   "metadata": {},
   "outputs": [
    {
     "data": {
      "text/plain": [
       "datetime.datetime(2020, 2, 16, 15, 15)"
      ]
     },
     "execution_count": 50,
     "metadata": {},
     "output_type": "execute_result"
    }
   ],
   "source": [
    "datetime(2020,2,16,15,15)"
   ]
  },
  {
   "cell_type": "code",
   "execution_count": 51,
   "metadata": {},
   "outputs": [
    {
     "data": {
      "text/plain": [
       "1581866100.0"
      ]
     },
     "execution_count": 51,
     "metadata": {},
     "output_type": "execute_result"
    }
   ],
   "source": [
    "datetime(2020,2,16,15,15).timestamp()"
   ]
  },
  {
   "cell_type": "code",
   "execution_count": 30,
   "metadata": {},
   "outputs": [],
   "source": [
    "def convert_time(s):\n",
    "    timestamp = time.mktime(\n",
    "        datetime.strptime(s, \"%Y-%m-%d %H:%M:%S\").timetuple()\n",
    "    )\n",
    "    return int(timestamp)\n",
    "\n",
    "train_df[\"Timestamp\"] = train_df[\"Timestamp\"].apply(convert_time)"
   ]
  },
  {
   "cell_type": "code",
   "execution_count": 42,
   "metadata": {},
   "outputs": [
    {
     "data": {
      "text/plain": [
       "1585009031.0"
      ]
     },
     "execution_count": 42,
     "metadata": {},
     "output_type": "execute_result"
    }
   ],
   "source": [
    "time.mktime(\n",
    "        datetime.strptime('2020-03-24 00:17:11', \"%Y-%m-%d %H:%M:%S\").timetuple()\n",
    "    )"
   ]
  },
  {
   "cell_type": "code",
   "execution_count": 32,
   "metadata": {},
   "outputs": [
    {
     "data": {
      "text/plain": [
       "0          1585009031\n",
       "1          1585009034\n",
       "2          1585009042\n",
       "3          1585009049\n",
       "4          1585009056\n",
       "              ...    \n",
       "2266581    1591339821\n",
       "2266582    1597971999\n",
       "2266583    1597972010\n",
       "2266584    1597972056\n",
       "2266585    1597972129\n",
       "Name: Timestamp, Length: 2266586, dtype: int64"
      ]
     },
     "execution_count": 32,
     "metadata": {},
     "output_type": "execute_result"
    }
   ],
   "source": [
    "train_df[\"Timestamp\"]"
   ]
  },
  {
   "cell_type": "code",
   "execution_count": 44,
   "metadata": {},
   "outputs": [
    {
     "data": {
      "text/plain": [
       "2076774"
      ]
     },
     "execution_count": 44,
     "metadata": {},
     "output_type": "execute_result"
    }
   ],
   "source": [
    "len(set(train_df[\"Timestamp\"].values))"
   ]
  },
  {
   "cell_type": "markdown",
   "metadata": {},
   "source": [
    "# Right Padding"
   ]
  },
  {
   "cell_type": "code",
   "execution_count": 54,
   "metadata": {},
   "outputs": [],
   "source": [
    "import torch\n",
    "\n",
    "def collate(batch):\n",
    "    col_n = len(batch[0])\n",
    "    col_list = [[] for _ in range(col_n)]\n",
    "    max_seq_len = len(batch[0][-1])\n",
    "\n",
    "    # batch의 값들을 각 column끼리 그룹화\n",
    "    for row in batch:\n",
    "        for i, col in enumerate(row):\n",
    "            pre_padded = torch.zeros(max_seq_len)\n",
    "            pre_padded[-len(col) :] = col\n",
    "            col_list[i].append(pre_padded)\n",
    "\n",
    "    for i, _ in enumerate(col_list):\n",
    "        col_list[i] = torch.stack(col_list[i])\n",
    "\n",
    "    return tuple(col_list)"
   ]
  },
  {
   "cell_type": "code",
   "execution_count": 67,
   "metadata": {},
   "outputs": [],
   "source": [
    "pre_padded = torch.zeros(20)"
   ]
  },
  {
   "cell_type": "code",
   "execution_count": 68,
   "metadata": {},
   "outputs": [],
   "source": [
    "pre_padded[:3] = 1"
   ]
  },
  {
   "cell_type": "code",
   "execution_count": 69,
   "metadata": {},
   "outputs": [
    {
     "data": {
      "text/plain": [
       "tensor([1., 1., 1., 0., 0., 0., 0., 0., 0., 0., 0., 0., 0., 0., 0., 0., 0., 0.,\n",
       "        0., 0.])"
      ]
     },
     "execution_count": 69,
     "metadata": {},
     "output_type": "execute_result"
    }
   ],
   "source": [
    "pre_padded"
   ]
  },
  {
   "cell_type": "code",
   "execution_count": 77,
   "metadata": {},
   "outputs": [],
   "source": [
    "tmp = torch.Tensor([[0,1], [1,0]])\n",
    "interaction_mask = tmp.roll(shifts=1, dims=1)"
   ]
  },
  {
   "cell_type": "code",
   "execution_count": 78,
   "metadata": {},
   "outputs": [
    {
     "data": {
      "text/plain": [
       "tensor([[1., 0.],\n",
       "        [0., 1.]])"
      ]
     },
     "execution_count": 78,
     "metadata": {},
     "output_type": "execute_result"
    }
   ],
   "source": [
    "interaction_mask"
   ]
  },
  {
   "cell_type": "code",
   "execution_count": 81,
   "metadata": {},
   "outputs": [],
   "source": [
    "interaction_mask[:, 0] = 3"
   ]
  },
  {
   "cell_type": "code",
   "execution_count": 82,
   "metadata": {},
   "outputs": [
    {
     "data": {
      "text/plain": [
       "tensor([[3., 0.],\n",
       "        [3., 1.]])"
      ]
     },
     "execution_count": 82,
     "metadata": {},
     "output_type": "execute_result"
    }
   ],
   "source": [
    "interaction_mask"
   ]
  },
  {
   "cell_type": "code",
   "execution_count": 114,
   "metadata": {},
   "outputs": [
    {
     "ename": "RuntimeError",
     "evalue": "zero-dimensional tensor (at position 1) cannot be concatenated",
     "output_type": "error",
     "traceback": [
      "\u001b[0;31m---------------------------------------------------------------------------\u001b[0m",
      "\u001b[0;31mRuntimeError\u001b[0m                              Traceback (most recent call last)",
      "Cell \u001b[0;32mIn [114], line 2\u001b[0m\n\u001b[1;32m      1\u001b[0m a \u001b[39m=\u001b[39m torch\u001b[39m.\u001b[39mTensor()\n\u001b[0;32m----> 2\u001b[0m torch\u001b[39m.\u001b[39;49mcat([a, tmp[\u001b[39m0\u001b[39;49m][\u001b[39m0\u001b[39;49m]])\n",
      "\u001b[0;31mRuntimeError\u001b[0m: zero-dimensional tensor (at position 1) cannot be concatenated"
     ]
    }
   ],
   "source": [
    "a = torch.Tensor()\n",
    "torch.cat([a, tmp[0][0]])"
   ]
  },
  {
   "cell_type": "markdown",
   "metadata": {},
   "source": [
    "# userID"
   ]
  },
  {
   "cell_type": "code",
   "execution_count": 3,
   "metadata": {},
   "outputs": [
    {
     "name": "stdout",
     "output_type": "stream",
     "text": [
      "6698\n",
      "6698\n"
     ]
    }
   ],
   "source": [
    "print(len(set(train_df['userID'].unique()) - set(test_df['userID'].unique())))\n",
    "print(len(set(train_df['userID'].unique())))"
   ]
  },
  {
   "cell_type": "markdown",
   "metadata": {},
   "source": [
    "train과 test 간 같은 유저가 존재하지 않습니다. test는 train에 없는 유저를 추측해야하죠.\n",
    "\n",
    "이러한 train/test의 특성을 살려 valid 역시 유저를 기준으로 분할합니다."
   ]
  },
  {
   "cell_type": "code",
   "execution_count": 4,
   "metadata": {},
   "outputs": [],
   "source": [
    "ratio = 0.8 # test/valid 비율 설정\n",
    "\n",
    "userids = train_df['userID'].unique()\n",
    "\n",
    "random.seed(SEED)\n",
    "random.shuffle(userids)\n",
    "\n",
    "size = int(len(userids) * ratio)\n",
    "train_userids = userids[:size]\n",
    "valid_userids = userids[size:]\n",
    "\n",
    "train = train_df.loc[train_df['userID'].isin(train_userids)]\n",
    "valid = train_df.loc[train_df['userID'].isin(valid_userids)]"
   ]
  },
  {
   "cell_type": "markdown",
   "metadata": {},
   "source": [
    "## 통계량 분석"
   ]
  },
  {
   "cell_type": "code",
   "execution_count": 5,
   "metadata": {},
   "outputs": [
    {
     "data": {
      "text/html": [
       "<div>\n",
       "<style scoped>\n",
       "    .dataframe tbody tr th:only-of-type {\n",
       "        vertical-align: middle;\n",
       "    }\n",
       "\n",
       "    .dataframe tbody tr th {\n",
       "        vertical-align: top;\n",
       "    }\n",
       "\n",
       "    .dataframe thead th {\n",
       "        text-align: right;\n",
       "    }\n",
       "</style>\n",
       "<table border=\"1\" class=\"dataframe\">\n",
       "  <thead>\n",
       "    <tr style=\"text-align: right;\">\n",
       "      <th></th>\n",
       "      <th>userID</th>\n",
       "      <th>mean</th>\n",
       "      <th>cnt</th>\n",
       "    </tr>\n",
       "  </thead>\n",
       "  <tbody>\n",
       "    <tr>\n",
       "      <th>0</th>\n",
       "      <td>0</td>\n",
       "      <td>0.630872</td>\n",
       "      <td>745</td>\n",
       "    </tr>\n",
       "    <tr>\n",
       "      <th>1</th>\n",
       "      <td>1</td>\n",
       "      <td>0.853162</td>\n",
       "      <td>933</td>\n",
       "    </tr>\n",
       "    <tr>\n",
       "      <th>2</th>\n",
       "      <td>2</td>\n",
       "      <td>0.612319</td>\n",
       "      <td>276</td>\n",
       "    </tr>\n",
       "    <tr>\n",
       "      <th>3</th>\n",
       "      <td>5</td>\n",
       "      <td>0.795918</td>\n",
       "      <td>833</td>\n",
       "    </tr>\n",
       "    <tr>\n",
       "      <th>4</th>\n",
       "      <td>6</td>\n",
       "      <td>0.442997</td>\n",
       "      <td>921</td>\n",
       "    </tr>\n",
       "    <tr>\n",
       "      <th>...</th>\n",
       "      <td>...</td>\n",
       "      <td>...</td>\n",
       "      <td>...</td>\n",
       "    </tr>\n",
       "    <tr>\n",
       "      <th>6693</th>\n",
       "      <td>7436</td>\n",
       "      <td>0.466667</td>\n",
       "      <td>15</td>\n",
       "    </tr>\n",
       "    <tr>\n",
       "      <th>6694</th>\n",
       "      <td>7437</td>\n",
       "      <td>0.375000</td>\n",
       "      <td>16</td>\n",
       "    </tr>\n",
       "    <tr>\n",
       "      <th>6695</th>\n",
       "      <td>7438</td>\n",
       "      <td>0.750000</td>\n",
       "      <td>16</td>\n",
       "    </tr>\n",
       "    <tr>\n",
       "      <th>6696</th>\n",
       "      <td>7440</td>\n",
       "      <td>0.400000</td>\n",
       "      <td>15</td>\n",
       "    </tr>\n",
       "    <tr>\n",
       "      <th>6697</th>\n",
       "      <td>7441</td>\n",
       "      <td>0.555556</td>\n",
       "      <td>9</td>\n",
       "    </tr>\n",
       "  </tbody>\n",
       "</table>\n",
       "<p>6698 rows × 3 columns</p>\n",
       "</div>"
      ],
      "text/plain": [
       "      userID      mean  cnt\n",
       "0          0  0.630872  745\n",
       "1          1  0.853162  933\n",
       "2          2  0.612319  276\n",
       "3          5  0.795918  833\n",
       "4          6  0.442997  921\n",
       "...      ...       ...  ...\n",
       "6693    7436  0.466667   15\n",
       "6694    7437  0.375000   16\n",
       "6695    7438  0.750000   16\n",
       "6696    7440  0.400000   15\n",
       "6697    7441  0.555556    9\n",
       "\n",
       "[6698 rows x 3 columns]"
      ]
     },
     "execution_count": 5,
     "metadata": {},
     "output_type": "execute_result"
    }
   ],
   "source": [
    "tem = train_df.groupby('userID')['answerCode']\n",
    "tem = pd.DataFrame({'mean' : tem.mean(), 'cnt':tem.count()}).reset_index()\n",
    "tem"
   ]
  },
  {
   "cell_type": "code",
   "execution_count": 6,
   "metadata": {},
   "outputs": [
    {
     "data": {
      "text/plain": [
       "<AxesSubplot: >"
      ]
     },
     "execution_count": 6,
     "metadata": {},
     "output_type": "execute_result"
    },
    {
     "data": {
      "image/png": "[encoded data removed]",
      "text/plain": [
       "<Figure size 640x480 with 1 Axes>"
      ]
     },
     "metadata": {},
     "output_type": "display_data"
    }
   ],
   "source": [
    "tem['mean'].hist()"
   ]
  },
  {
   "cell_type": "markdown",
   "metadata": {},
   "source": [
    "유저 별 정답률에 유의미한 차이가 보입니다.\n",
    "\n",
    "한 명 빼고는 최소 15문제씩 푼 것을 확인할 수 있습니다.\n",
    "\n",
    "다만 테스트 데이터에는 cold start 유저만 있기 때문에 이 부분을 잘 고려해야겠습니다."
   ]
  },
  {
   "cell_type": "markdown",
   "metadata": {},
   "source": [
    "# assessmentItemID & testId"
   ]
  },
  {
   "cell_type": "markdown",
   "metadata": {},
   "source": [
    "|x|X|B|\n",
    "|-|-|-|\n",
    "|range(1,10)|range(10)|[0,1]|\n",
    "\n",
    "**assessmentItemID 형태**: A + 시험지 번호 6자리 + 시험지 내 문항의 번호 3자리 (A 0x0BXX 0BX)\n",
    "\n",
    "**testId 형태**: A + 시험지 번호 중 앞 3자리 + 000 + 시험지 번호 중 뒷 3자리 (A 0x0 000 BXX)\n",
    "\n",
    "***=> testId의 정보는 assessmentItemID에 포함되어 있음***"
   ]
  },
  {
   "cell_type": "code",
   "execution_count": 7,
   "metadata": {},
   "outputs": [
    {
     "name": "stdout",
     "output_type": "stream",
     "text": [
      "0번째 value_count\n",
      "A    2266586\n",
      "Name: assessmentItemID, dtype: int64\n",
      "\n",
      "1번째 value_count\n",
      "0    2266586\n",
      "Name: assessmentItemID, dtype: int64\n",
      "\n",
      "2번째 value_count\n",
      "7    279164\n",
      "5    275773\n",
      "3    273762\n",
      "1    272082\n",
      "2    268327\n",
      "4    267323\n",
      "6    264434\n",
      "8    246336\n",
      "9    119385\n",
      "Name: assessmentItemID, dtype: int64\n",
      "\n",
      "3번째 value_count\n",
      "0    2266586\n",
      "Name: assessmentItemID, dtype: int64\n",
      "\n",
      "4번째 value_count\n",
      "0    1335224\n",
      "1     931362\n",
      "Name: assessmentItemID, dtype: int64\n",
      "\n",
      "5번째 value_count\n",
      "2    274486\n",
      "1    272347\n",
      "3    260710\n",
      "0    257671\n",
      "5    237026\n",
      "4    232875\n",
      "6    206081\n",
      "7    185973\n",
      "8    181872\n",
      "9    157545\n",
      "Name: assessmentItemID, dtype: int64\n",
      "\n",
      "6번째 value_count\n",
      "3    249769\n",
      "1    247657\n",
      "7    247545\n",
      "5    242085\n",
      "9    234204\n",
      "4    215019\n",
      "2    213197\n",
      "8    209236\n",
      "6    207763\n",
      "0    200111\n",
      "Name: assessmentItemID, dtype: int64\n",
      "\n",
      "7번째 value_count\n",
      "0    2266586\n",
      "Name: assessmentItemID, dtype: int64\n",
      "\n",
      "8번째 value_count\n",
      "0    2255139\n",
      "1      11447\n",
      "Name: assessmentItemID, dtype: int64\n",
      "\n",
      "9번째 value_count\n",
      "1    375107\n",
      "2    373456\n",
      "3    371909\n",
      "4    369705\n",
      "5    360607\n",
      "6    197772\n",
      "7    127121\n",
      "8     67150\n",
      "9     18417\n",
      "0      5342\n",
      "Name: assessmentItemID, dtype: int64\n",
      "\n"
     ]
    }
   ],
   "source": [
    "for i in range(10):\n",
    "    print(f'{i}번째 value_count')\n",
    "    print(train_df['assessmentItemID'].str[i].value_counts())\n",
    "    print()"
   ]
  },
  {
   "cell_type": "code",
   "execution_count": 8,
   "metadata": {},
   "outputs": [
    {
     "name": "stdout",
     "output_type": "stream",
     "text": [
      "assessmentItemID의 차원: 9454\n",
      "testId의 차원: 1537\n"
     ]
    }
   ],
   "source": [
    "print(f\"assessmentItemID의 차원: {train_df['assessmentItemID'].nunique()}\\ntestId의 차원: {train_df['testId'].nunique()}\")"
   ]
  },
  {
   "cell_type": "markdown",
   "metadata": {},
   "source": [
    "assessmentItemID 변수 2번째 값(시험지 변수의 일부)에 대한 정답률을 살펴보면"
   ]
  },
  {
   "cell_type": "code",
   "execution_count": 9,
   "metadata": {},
   "outputs": [
    {
     "data": {
      "text/html": [
       "<div>\n",
       "<style scoped>\n",
       "    .dataframe tbody tr th:only-of-type {\n",
       "        vertical-align: middle;\n",
       "    }\n",
       "\n",
       "    .dataframe tbody tr th {\n",
       "        vertical-align: top;\n",
       "    }\n",
       "\n",
       "    .dataframe thead th {\n",
       "        text-align: right;\n",
       "    }\n",
       "</style>\n",
       "<table border=\"1\" class=\"dataframe\">\n",
       "  <thead>\n",
       "    <tr style=\"text-align: right;\">\n",
       "      <th></th>\n",
       "      <th>test_2</th>\n",
       "      <th>mean</th>\n",
       "      <th>cnt</th>\n",
       "    </tr>\n",
       "  </thead>\n",
       "  <tbody>\n",
       "    <tr>\n",
       "      <th>0</th>\n",
       "      <td>1</td>\n",
       "      <td>0.800876</td>\n",
       "      <td>272082</td>\n",
       "    </tr>\n",
       "    <tr>\n",
       "      <th>1</th>\n",
       "      <td>2</td>\n",
       "      <td>0.737593</td>\n",
       "      <td>268327</td>\n",
       "    </tr>\n",
       "    <tr>\n",
       "      <th>2</th>\n",
       "      <td>3</td>\n",
       "      <td>0.702238</td>\n",
       "      <td>273762</td>\n",
       "    </tr>\n",
       "    <tr>\n",
       "      <th>3</th>\n",
       "      <td>4</td>\n",
       "      <td>0.684056</td>\n",
       "      <td>267323</td>\n",
       "    </tr>\n",
       "    <tr>\n",
       "      <th>4</th>\n",
       "      <td>5</td>\n",
       "      <td>0.658208</td>\n",
       "      <td>275773</td>\n",
       "    </tr>\n",
       "    <tr>\n",
       "      <th>5</th>\n",
       "      <td>6</td>\n",
       "      <td>0.709232</td>\n",
       "      <td>264434</td>\n",
       "    </tr>\n",
       "    <tr>\n",
       "      <th>6</th>\n",
       "      <td>7</td>\n",
       "      <td>0.521876</td>\n",
       "      <td>279164</td>\n",
       "    </tr>\n",
       "    <tr>\n",
       "      <th>7</th>\n",
       "      <td>8</td>\n",
       "      <td>0.502598</td>\n",
       "      <td>246336</td>\n",
       "    </tr>\n",
       "    <tr>\n",
       "      <th>8</th>\n",
       "      <td>9</td>\n",
       "      <td>0.449948</td>\n",
       "      <td>119385</td>\n",
       "    </tr>\n",
       "  </tbody>\n",
       "</table>\n",
       "</div>"
      ],
      "text/plain": [
       "  test_2      mean     cnt\n",
       "0      1  0.800876  272082\n",
       "1      2  0.737593  268327\n",
       "2      3  0.702238  273762\n",
       "3      4  0.684056  267323\n",
       "4      5  0.658208  275773\n",
       "5      6  0.709232  264434\n",
       "6      7  0.521876  279164\n",
       "7      8  0.502598  246336\n",
       "8      9  0.449948  119385"
      ]
     },
     "execution_count": 9,
     "metadata": {},
     "output_type": "execute_result"
    }
   ],
   "source": [
    "train_df['test_2'] = train_df['assessmentItemID'].str[2]\n",
    "\n",
    "tem = train_df.groupby('test_2')['answerCode']\n",
    "\n",
    "pd.DataFrame({'mean' : tem.mean(), 'cnt':tem.count()}).reset_index()"
   ]
  },
  {
   "cell_type": "markdown",
   "metadata": {},
   "source": [
    "이 변수에 따라 정답률이 유의미한 차이를 가지므로, 문제 난이도와 관련된 변수라고 생각할 수 있음 (변수가 커질수록 난이도가 높아지는 경향)\n",
    "\n",
    "시험지 변수의 나머지 부분도 확인해보면"
   ]
  },
  {
   "cell_type": "code",
   "execution_count": 10,
   "metadata": {},
   "outputs": [
    {
     "data": {
      "text/plain": [
       "test_456\n",
       "057    0.529107\n",
       "047    0.542518\n",
       "049    0.550103\n",
       "051    0.557857\n",
       "069    0.558188\n",
       "         ...   \n",
       "179    0.819098\n",
       "185    0.831546\n",
       "195    0.835409\n",
       "198    0.853838\n",
       "196    0.895706\n",
       "Name: answerCode, Length: 198, dtype: float64"
      ]
     },
     "execution_count": 10,
     "metadata": {},
     "output_type": "execute_result"
    }
   ],
   "source": [
    "train_df['test_456'] = train_df['assessmentItemID'].str[4:7]\n",
    "train_df.groupby('test_456')['answerCode'].mean().sort_values()"
   ]
  },
  {
   "cell_type": "markdown",
   "metadata": {},
   "source": [
    "시험지의 나머지 부분도 동일하게 유의미한 정답률 차이를 보이고, 변수가 커질수록 난이도가 높아지는 경향을 보임"
   ]
  },
  {
   "cell_type": "code",
   "execution_count": 11,
   "metadata": {},
   "outputs": [
    {
     "data": {
      "text/html": [
       "<div>\n",
       "<style scoped>\n",
       "    .dataframe tbody tr th:only-of-type {\n",
       "        vertical-align: middle;\n",
       "    }\n",
       "\n",
       "    .dataframe tbody tr th {\n",
       "        vertical-align: top;\n",
       "    }\n",
       "\n",
       "    .dataframe thead th {\n",
       "        text-align: right;\n",
       "    }\n",
       "</style>\n",
       "<table border=\"1\" class=\"dataframe\">\n",
       "  <thead>\n",
       "    <tr style=\"text-align: right;\">\n",
       "      <th></th>\n",
       "      <th>problem_id</th>\n",
       "      <th>mean</th>\n",
       "      <th>cnt</th>\n",
       "    </tr>\n",
       "  </thead>\n",
       "  <tbody>\n",
       "    <tr>\n",
       "      <th>0</th>\n",
       "      <td>001</td>\n",
       "      <td>0.749916</td>\n",
       "      <td>371755</td>\n",
       "    </tr>\n",
       "    <tr>\n",
       "      <th>1</th>\n",
       "      <td>002</td>\n",
       "      <td>0.720062</td>\n",
       "      <td>370972</td>\n",
       "    </tr>\n",
       "    <tr>\n",
       "      <th>2</th>\n",
       "      <td>003</td>\n",
       "      <td>0.687773</td>\n",
       "      <td>371640</td>\n",
       "    </tr>\n",
       "    <tr>\n",
       "      <th>3</th>\n",
       "      <td>004</td>\n",
       "      <td>0.663364</td>\n",
       "      <td>369705</td>\n",
       "    </tr>\n",
       "    <tr>\n",
       "      <th>4</th>\n",
       "      <td>005</td>\n",
       "      <td>0.599134</td>\n",
       "      <td>360607</td>\n",
       "    </tr>\n",
       "    <tr>\n",
       "      <th>5</th>\n",
       "      <td>006</td>\n",
       "      <td>0.555685</td>\n",
       "      <td>197772</td>\n",
       "    </tr>\n",
       "    <tr>\n",
       "      <th>6</th>\n",
       "      <td>007</td>\n",
       "      <td>0.515399</td>\n",
       "      <td>127121</td>\n",
       "    </tr>\n",
       "    <tr>\n",
       "      <th>7</th>\n",
       "      <td>008</td>\n",
       "      <td>0.457156</td>\n",
       "      <td>67150</td>\n",
       "    </tr>\n",
       "    <tr>\n",
       "      <th>8</th>\n",
       "      <td>009</td>\n",
       "      <td>0.481729</td>\n",
       "      <td>18417</td>\n",
       "    </tr>\n",
       "    <tr>\n",
       "      <th>9</th>\n",
       "      <td>010</td>\n",
       "      <td>0.527892</td>\n",
       "      <td>5342</td>\n",
       "    </tr>\n",
       "    <tr>\n",
       "      <th>10</th>\n",
       "      <td>011</td>\n",
       "      <td>0.480609</td>\n",
       "      <td>3352</td>\n",
       "    </tr>\n",
       "    <tr>\n",
       "      <th>11</th>\n",
       "      <td>012</td>\n",
       "      <td>0.370370</td>\n",
       "      <td>2484</td>\n",
       "    </tr>\n",
       "    <tr>\n",
       "      <th>12</th>\n",
       "      <td>013</td>\n",
       "      <td>0.200743</td>\n",
       "      <td>269</td>\n",
       "    </tr>\n",
       "  </tbody>\n",
       "</table>\n",
       "</div>"
      ],
      "text/plain": [
       "   problem_id      mean     cnt\n",
       "0         001  0.749916  371755\n",
       "1         002  0.720062  370972\n",
       "2         003  0.687773  371640\n",
       "3         004  0.663364  369705\n",
       "4         005  0.599134  360607\n",
       "5         006  0.555685  197772\n",
       "6         007  0.515399  127121\n",
       "7         008  0.457156   67150\n",
       "8         009  0.481729   18417\n",
       "9         010  0.527892    5342\n",
       "10        011  0.480609    3352\n",
       "11        012  0.370370    2484\n",
       "12        013  0.200743     269"
      ]
     },
     "execution_count": 11,
     "metadata": {},
     "output_type": "execute_result"
    }
   ],
   "source": [
    "train_df['problem_id'] = train_df['assessmentItemID'].str[-3:]\n",
    "tem = train_df.groupby('problem_id')['answerCode']\n",
    "\n",
    "pd.DataFrame({'mean' : tem.mean(), 'cnt':tem.count()}).reset_index()"
   ]
  },
  {
   "cell_type": "markdown",
   "metadata": {},
   "source": [
    "문제 번호에 따른 정답률 차이도 유의미함\n",
    "\n",
    "번호가 커질수록 풀은 문제의 수는 줄어들고(해당 문항 번호가 없거나, 사용자들이 잘 풀지 않음),\n",
    "난이도가 높아지는 경향이 있음 "
   ]
  },
  {
   "cell_type": "markdown",
   "metadata": {},
   "source": [
    "결론적으로 정답률에 유의미한 영향을 주는 변수지만, assessmentID에 모든 정보가 이미 들어있어, 하위 변수로 쪼개는 것이 성능에 긍정적인 영향을 줄지 고려해야함"
   ]
  },
  {
   "cell_type": "markdown",
   "metadata": {},
   "source": [
    "# answerCode"
   ]
  },
  {
   "cell_type": "markdown",
   "metadata": {},
   "source": [
    "문제풀이의 정답 여부를 나타내는 데이터\n",
    "\n",
    "label로 사용하지만, 정제해서 학습데이터로도 활용 가능\n",
    "\n",
    "ex) 시계열 데이터에서 이전 문제풀이의 정답여부, 현재까지의 누적 정답률 등"
   ]
  },
  {
   "cell_type": "markdown",
   "metadata": {},
   "source": [
    "# Timestamp"
   ]
  },
  {
   "cell_type": "code",
   "execution_count": 13,
   "metadata": {},
   "outputs": [],
   "source": [
    "# datetime 자료형으로 변환하면 날짜 변수를 훨씬 쉽게 접근할 수 있습니다.\n",
    "train_df['Timestamp'] = pd.to_datetime(train_df['Timestamp'])\n",
    "# train['Timestamp'].dt.year # 연도 정보\n",
    "# train['Timestamp'].dt.month # 월 정보 -\n",
    "# train['Timestamp'].dt.weekday # 일 정보\n",
    "# train['Timestamp'].dt.day # 일 정보\n",
    "# train['Timestamp'].dt.hour # 시간 정보 -\n",
    "# train['Timestamp'].dt.minute # 분 정보\n",
    "# train['Timestamp'].dt.second # 초 정보"
   ]
  },
  {
   "cell_type": "code",
   "execution_count": 13,
   "metadata": {},
   "outputs": [
    {
     "data": {
      "text/plain": [
       "2020    2266567\n",
       "2019         19\n",
       "Name: year, dtype: int64"
      ]
     },
     "execution_count": 13,
     "metadata": {},
     "output_type": "execute_result"
    }
   ],
   "source": [
    "train_df['year'] = train_df['Timestamp'].dt.year\n",
    "train_df['year'].value_counts()"
   ]
  },
  {
   "cell_type": "code",
   "execution_count": 14,
   "metadata": {},
   "outputs": [
    {
     "data": {
      "text/plain": [
       "month\n",
       "12    0.496304\n",
       "11    0.505544\n",
       "5     0.643317\n",
       "4     0.649545\n",
       "6     0.651967\n",
       "8     0.657599\n",
       "7     0.665650\n",
       "9     0.668872\n",
       "10    0.670372\n",
       "3     0.682643\n",
       "2     0.687222\n",
       "1     0.712199\n",
       "Name: answerCode, dtype: float64"
      ]
     },
     "execution_count": 14,
     "metadata": {},
     "output_type": "execute_result"
    }
   ],
   "source": [
    "train_df['month'] = train_df['Timestamp'].dt.month\n",
    "train_df.groupby('month')['answerCode'].mean().sort_values()"
   ]
  },
  {
   "cell_type": "markdown",
   "metadata": {},
   "source": [
    "월별로 정답률에 차이가 있음 "
   ]
  },
  {
   "cell_type": "code",
   "execution_count": 15,
   "metadata": {},
   "outputs": [
    {
     "data": {
      "text/plain": [
       "weekday\n",
       "5    0.603206\n",
       "2    0.641011\n",
       "4    0.643362\n",
       "3    0.658466\n",
       "1    0.667046\n",
       "6    0.675257\n",
       "0    0.676518\n",
       "Name: answerCode, dtype: float64"
      ]
     },
     "execution_count": 15,
     "metadata": {},
     "output_type": "execute_result"
    }
   ],
   "source": [
    "train_df['weekday'] = train_df['Timestamp'].dt.weekday\n",
    "train_df.groupby('weekday')['answerCode'].mean().sort_values()"
   ]
  },
  {
   "cell_type": "code",
   "execution_count": 16,
   "metadata": {},
   "outputs": [
    {
     "data": {
      "text/plain": [
       "day\n",
       "5     0.642880\n",
       "4     0.644408\n",
       "29    0.645162\n",
       "28    0.645931\n",
       "30    0.646526\n",
       "19    0.646682\n",
       "11    0.647353\n",
       "18    0.649955\n",
       "27    0.650301\n",
       "17    0.652006\n",
       "1     0.652507\n",
       "25    0.652689\n",
       "23    0.653157\n",
       "3     0.653433\n",
       "12    0.654113\n",
       "22    0.654478\n",
       "16    0.654808\n",
       "24    0.655858\n",
       "2     0.656055\n",
       "10    0.656140\n",
       "31    0.656187\n",
       "9     0.657514\n",
       "15    0.658230\n",
       "21    0.659397\n",
       "26    0.659470\n",
       "8     0.660020\n",
       "14    0.660140\n",
       "20    0.660884\n",
       "7     0.661618\n",
       "13    0.662228\n",
       "6     0.666662\n",
       "Name: answerCode, dtype: float64"
      ]
     },
     "execution_count": 16,
     "metadata": {},
     "output_type": "execute_result"
    }
   ],
   "source": [
    "train_df['day'] = train_df['Timestamp'].dt.day\n",
    "train_df.groupby('day')['answerCode'].mean().sort_values()"
   ]
  },
  {
   "cell_type": "code",
   "execution_count": 17,
   "metadata": {},
   "outputs": [
    {
     "data": {
      "text/plain": [
       "hour\n",
       "19    0.528847\n",
       "20    0.532575\n",
       "18    0.547598\n",
       "17    0.553639\n",
       "16    0.576721\n",
       "21    0.588505\n",
       "5     0.624776\n",
       "6     0.629941\n",
       "3     0.632685\n",
       "4     0.633292\n",
       "2     0.642410\n",
       "7     0.643050\n",
       "1     0.644321\n",
       "22    0.644492\n",
       "0     0.649446\n",
       "23    0.659023\n",
       "8     0.667948\n",
       "15    0.672702\n",
       "9     0.682764\n",
       "14    0.695666\n",
       "10    0.699632\n",
       "13    0.704881\n",
       "11    0.709786\n",
       "12    0.715727\n",
       "Name: answerCode, dtype: float64"
      ]
     },
     "execution_count": 17,
     "metadata": {},
     "output_type": "execute_result"
    }
   ],
   "source": [
    "train_df['hour'] = train_df['Timestamp'].dt.hour\n",
    "train_df.groupby('hour')['answerCode'].mean().sort_values()"
   ]
  },
  {
   "cell_type": "markdown",
   "metadata": {},
   "source": [
    "시간별로 정답률에 차이가 있음 "
   ]
  },
  {
   "cell_type": "code",
   "execution_count": 18,
   "metadata": {},
   "outputs": [
    {
     "data": {
      "text/plain": [
       "minute\n",
       "53    0.644429\n",
       "7     0.646893\n",
       "55    0.647596\n",
       "37    0.649202\n",
       "2     0.649677\n",
       "16    0.650084\n",
       "48    0.650175\n",
       "45    0.650834\n",
       "50    0.650882\n",
       "3     0.651078\n",
       "0     0.651202\n",
       "35    0.651310\n",
       "57    0.651446\n",
       "32    0.651460\n",
       "56    0.652514\n",
       "27    0.652577\n",
       "24    0.652623\n",
       "10    0.652976\n",
       "26    0.652998\n",
       "52    0.653139\n",
       "21    0.653222\n",
       "39    0.653366\n",
       "44    0.653533\n",
       "58    0.653534\n",
       "28    0.653840\n",
       "19    0.653980\n",
       "13    0.654409\n",
       "36    0.654502\n",
       "5     0.654629\n",
       "34    0.654658\n",
       "47    0.654912\n",
       "14    0.655023\n",
       "11    0.655082\n",
       "15    0.655097\n",
       "30    0.655330\n",
       "23    0.655493\n",
       "17    0.655561\n",
       "51    0.655938\n",
       "20    0.656082\n",
       "40    0.656216\n",
       "41    0.656288\n",
       "43    0.656564\n",
       "42    0.656601\n",
       "18    0.656799\n",
       "49    0.656924\n",
       "8     0.656956\n",
       "4     0.657004\n",
       "38    0.657189\n",
       "46    0.657303\n",
       "33    0.657528\n",
       "9     0.657695\n",
       "59    0.657762\n",
       "31    0.657825\n",
       "29    0.657931\n",
       "1     0.658024\n",
       "25    0.658536\n",
       "12    0.658804\n",
       "54    0.659395\n",
       "6     0.659787\n",
       "22    0.660802\n",
       "Name: answerCode, dtype: float64"
      ]
     },
     "execution_count": 18,
     "metadata": {},
     "output_type": "execute_result"
    }
   ],
   "source": [
    "train_df['minute'] = train_df['Timestamp'].dt.minute\n",
    "train_df.groupby('minute')['answerCode'].mean().sort_values()"
   ]
  },
  {
   "cell_type": "code",
   "execution_count": 19,
   "metadata": {},
   "outputs": [
    {
     "data": {
      "text/plain": [
       "second\n",
       "24    0.650345\n",
       "20    0.650632\n",
       "31    0.650672\n",
       "30    0.651593\n",
       "25    0.651721\n",
       "55    0.651847\n",
       "33    0.652003\n",
       "46    0.652047\n",
       "0     0.652159\n",
       "45    0.652165\n",
       "48    0.652241\n",
       "18    0.652274\n",
       "40    0.652454\n",
       "47    0.652593\n",
       "42    0.652749\n",
       "22    0.653138\n",
       "28    0.653407\n",
       "16    0.653423\n",
       "13    0.653511\n",
       "3     0.653570\n",
       "5     0.653597\n",
       "57    0.653876\n",
       "35    0.654002\n",
       "32    0.654034\n",
       "44    0.654096\n",
       "19    0.654165\n",
       "15    0.654257\n",
       "26    0.654367\n",
       "9     0.654436\n",
       "51    0.654512\n",
       "11    0.654534\n",
       "21    0.654619\n",
       "53    0.654731\n",
       "58    0.654813\n",
       "27    0.654852\n",
       "50    0.654987\n",
       "8     0.655051\n",
       "7     0.655091\n",
       "43    0.655142\n",
       "36    0.655166\n",
       "49    0.655308\n",
       "34    0.655323\n",
       "39    0.655383\n",
       "52    0.655663\n",
       "14    0.655668\n",
       "54    0.655687\n",
       "41    0.655831\n",
       "10    0.655837\n",
       "38    0.655861\n",
       "12    0.655879\n",
       "56    0.655956\n",
       "17    0.656008\n",
       "23    0.656471\n",
       "59    0.656660\n",
       "6     0.656662\n",
       "4     0.657033\n",
       "37    0.657369\n",
       "29    0.657607\n",
       "1     0.657854\n",
       "2     0.659939\n",
       "Name: answerCode, dtype: float64"
      ]
     },
     "execution_count": 19,
     "metadata": {},
     "output_type": "execute_result"
    }
   ],
   "source": [
    "train_df['second'] = train_df['Timestamp'].dt.second\n",
    "train_df.groupby('second')['answerCode'].mean().sort_values()"
   ]
  },
  {
   "cell_type": "markdown",
   "metadata": {},
   "source": [
    "다음번 문제풀이와의 시간차이를 이용해서 문제풀이에 걸린 시간을 변수로 사용하는 것은 이상치가 많을 뿐더러,\n",
    " \n",
    "마지막 문제풀이의 정답여부를 맞혀야되는 문제에서는 가장 중요한 테스트에서 데이터로 사용 불가능함\n",
    "\n",
    "=> 그렇다면 이전 문제풀이와의 시간차이를 이용해서 연속적인 문제풀이 과정에 있는것인지 여부를 변수로 활용해보자 (단순화시켜서 이상치도 정리됨)\n",
    "\n",
    "1: 연속 문제풀이 / 0: 연속 아님"
   ]
  },
  {
   "cell_type": "markdown",
   "metadata": {},
   "source": [
    "각 유저에 대해 첫 번째 문제풀이는 0으로 고정하고 이후 문제풀이에 대해서 값 계산해보기"
   ]
  },
  {
   "cell_type": "code",
   "execution_count": 16,
   "metadata": {},
   "outputs": [],
   "source": [
    "threshold = 30*60\n",
    "train_df['continuous'] = 0\n",
    "for i in range(1, len(train_df)):\n",
    "    if train_df['userID'][i] != train_df['userID'][i-1]:\n",
    "        continue\n",
    "    else:\n",
    "        if (train_df['Timestamp'].values[i] - train_df['Timestamp'].values[i-1]) / np.timedelta64(1, 's') < threshold:\n",
    "            train_df['continuous'][i] = 1\n"
   ]
  },
  {
   "cell_type": "code",
   "execution_count": 17,
   "metadata": {},
   "outputs": [
    {
     "data": {
      "text/plain": [
       "continuous\n",
       "1    0.638364\n",
       "0    0.743915\n",
       "Name: answerCode, dtype: float64"
      ]
     },
     "execution_count": 17,
     "metadata": {},
     "output_type": "execute_result"
    }
   ],
   "source": [
    "train_df.groupby('continuous')['answerCode'].mean().sort_values()"
   ]
  },
  {
   "cell_type": "markdown",
   "metadata": {},
   "source": [
    "# KnowledgeTag"
   ]
  },
  {
   "cell_type": "code",
   "execution_count": 18,
   "metadata": {},
   "outputs": [
    {
     "data": {
      "text/plain": [
       "KnowledgeTag\n",
       "8911     0.188940\n",
       "10332    0.250000\n",
       "9125     0.257009\n",
       "10590    0.268139\n",
       "5763     0.278027\n",
       "           ...   \n",
       "1580     0.941896\n",
       "1582     0.949280\n",
       "1577     0.950461\n",
       "7224     0.955022\n",
       "1878     0.977778\n",
       "Name: answerCode, Length: 912, dtype: float64"
      ]
     },
     "execution_count": 18,
     "metadata": {},
     "output_type": "execute_result"
    }
   ],
   "source": [
    "train_df.groupby('KnowledgeTag')['answerCode'].mean().sort_values()"
   ]
  },
  {
   "cell_type": "markdown",
   "metadata": {},
   "source": [
    "문제 카테고리도 간단하게 살펴봤는데요. 몇 안되는 칼럼인 만큼 상당히 유의미한 정답률 차이를 보여주네요."
   ]
  },
  {
   "cell_type": "code",
   "execution_count": 19,
   "metadata": {},
   "outputs": [
    {
     "data": {
      "text/plain": [
       "7597    12892\n",
       "7600    10734\n",
       "2010    10176\n",
       "7621     9709\n",
       "8127     9006\n",
       "        ...  \n",
       "5142       47\n",
       "2871       46\n",
       "4978       46\n",
       "7125       45\n",
       "2613       44\n",
       "Name: KnowledgeTag, Length: 912, dtype: int64"
      ]
     },
     "execution_count": 19,
     "metadata": {},
     "output_type": "execute_result"
    }
   ],
   "source": [
    "train_df['KnowledgeTag'].value_counts()"
   ]
  },
  {
   "cell_type": "markdown",
   "metadata": {},
   "source": [
    "카테고리 별 문제가 최소한 40개 이상은 됩니다. 따로 전처리하지 않아도 좋을 것 같아요."
   ]
  },
  {
   "cell_type": "markdown",
   "metadata": {},
   "source": [
    "# train/valid 데이터 분할"
   ]
  },
  {
   "cell_type": "code",
   "execution_count": 20,
   "metadata": {},
   "outputs": [],
   "source": [
    "ratio = 0.8 # test/valid 비율 설정\n",
    "\n",
    "userids = train_df['userID'].unique()\n",
    "\n",
    "random.seed(SEED)\n",
    "random.shuffle(userids)\n",
    "\n",
    "size = int(len(userids) * ratio)\n",
    "train_userids = userids[:size]\n",
    "valid_userids = userids[size:]\n",
    "\n",
    "train = train_df.loc[train_df['userID'].isin(train_userids)]\n",
    "valid = train_df.loc[train_df['userID'].isin(valid_userids)]"
   ]
  },
  {
   "cell_type": "code",
   "execution_count": 22,
   "metadata": {},
   "outputs": [
    {
     "name": "stdout",
     "output_type": "stream",
     "text": [
      "<class 'pandas.core.frame.DataFrame'>\n",
      "Int64Index: 1815471 entries, 0 to 2266585\n",
      "Data columns (total 13 columns):\n",
      " #   Column            Dtype         \n",
      "---  ------            -----         \n",
      " 0   userID            int64         \n",
      " 1   assessmentItemID  object        \n",
      " 2   testId            object        \n",
      " 3   answerCode        int64         \n",
      " 4   Timestamp         datetime64[ns]\n",
      " 5   KnowledgeTag      int64         \n",
      " 6   test_2            object        \n",
      " 7   test_456          object        \n",
      " 8   problem_id        object        \n",
      " 9   year              int64         \n",
      " 10  month             int64         \n",
      " 11  hour              int64         \n",
      " 12  continuous        int64         \n",
      "dtypes: datetime64[ns](1), int64(7), object(5)\n",
      "memory usage: 193.9+ MB\n"
     ]
    }
   ],
   "source": [
    "train.info()"
   ]
  }
 ],
 "metadata": {
  "kernelspec": {
   "display_name": "Python 3.8.5 ('base')",
   "language": "python",
   "name": "python3"
  },
  "language_info": {
   "codemirror_mode": {
    "name": "ipython",
    "version": 3
   },
   "file_extension": ".py",
   "mimetype": "text/x-python",
   "name": "python",
   "nbconvert_exporter": "python",
   "pygments_lexer": "ipython3",
   "version": "3.8.5"
  },
  "vscode": {
   "interpreter": {
    "hash": "d4d1e4263499bec80672ea0156c357c1ee493ec2b1c70f0acce89fc37c4a6abe"
   }
  }
 },
 "nbformat": 4,
 "nbformat_minor": 4
}
