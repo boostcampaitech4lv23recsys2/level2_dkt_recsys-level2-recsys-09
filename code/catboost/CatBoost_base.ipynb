{
 "cells": [
  {
   "cell_type": "markdown",
   "metadata": {},
   "source": [
    "## 데이터 불러오기 및 패키지 설치"
   ]
  },
  {
   "cell_type": "code",
   "execution_count": 1,
   "metadata": {},
   "outputs": [],
   "source": [
    "import numpy as np\n",
    "import pandas as pd\n",
    "\n",
    "import os\n",
    "import random\n",
    "\n",
    "import warnings\n",
    "\n",
    "warnings.filterwarnings(action='ignore')\n",
    "\n",
    "path = '../../data/' # 환경에 맞게 바꿔주시면 됩니다.\n",
    "\n",
    "train_df = pd.read_csv(path + 'train_data.csv')\n",
    "test_df = pd.read_csv(path + 'test_data.csv')\n",
    "\n",
    "SEED = 42"
   ]
  },
  {
   "cell_type": "code",
   "execution_count": 2,
   "metadata": {},
   "outputs": [
    {
     "name": "stdout",
     "output_type": "stream",
     "text": [
      "<class 'pandas.core.frame.DataFrame'>\n",
      "RangeIndex: 2266586 entries, 0 to 2266585\n",
      "Data columns (total 6 columns):\n",
      " #   Column            Dtype \n",
      "---  ------            ----- \n",
      " 0   userID            int64 \n",
      " 1   assessmentItemID  object\n",
      " 2   testId            object\n",
      " 3   answerCode        int64 \n",
      " 4   Timestamp         object\n",
      " 5   KnowledgeTag      int64 \n",
      "dtypes: int64(3), object(3)\n",
      "memory usage: 103.8+ MB\n"
     ]
    }
   ],
   "source": [
    "train_df.info()"
   ]
  },
  {
   "cell_type": "markdown",
   "metadata": {},
   "source": [
    "# 1. 데이터 전처리"
   ]
  },
  {
   "cell_type": "code",
   "execution_count": 3,
   "metadata": {},
   "outputs": [
    {
     "data": {
      "text/plain": [
       "\"\\ntrain_df['test_group'] = train_df['assessmentItemID'].str[2]\\ntrain_df['problem_id'] = train_df['assessmentItemID'].str[-3:]\\n\\ntest_df['test_group'] = test_df['assessmentItemID'].str[2]\\ntest_df['problem_id'] = test_df['assessmentItemID'].str[-3:]\\n\""
      ]
     },
     "execution_count": 3,
     "metadata": {},
     "output_type": "execute_result"
    }
   ],
   "source": [
    "# assessmentItemID 분할\n",
    "\"\"\"\n",
    "train_df['test_group'] = train_df['assessmentItemID'].str[2]\n",
    "train_df['problem_id'] = train_df['assessmentItemID'].str[-3:]\n",
    "\n",
    "test_df['test_group'] = test_df['assessmentItemID'].str[2]\n",
    "test_df['problem_id'] = test_df['assessmentItemID'].str[-3:]\n",
    "\"\"\""
   ]
  },
  {
   "cell_type": "code",
   "execution_count": 4,
   "metadata": {},
   "outputs": [
    {
     "data": {
      "text/plain": [
       "\"\\ntrain_df['Timestamp'] = pd.to_datetime(train_df['Timestamp'])\\ntrain_df['hour'] = train_df['Timestamp'].dt.hour\\n\\ntest_df['Timestamp'] = pd.to_datetime(test_df['Timestamp'])\\ntest_df['hour'] = test_df['Timestamp'].dt.hour\\n\""
      ]
     },
     "execution_count": 4,
     "metadata": {},
     "output_type": "execute_result"
    }
   ],
   "source": [
    "# Timestamp 변환 및 분할\n",
    "\"\"\"\n",
    "train_df['Timestamp'] = pd.to_datetime(train_df['Timestamp'])\n",
    "train_df['hour'] = train_df['Timestamp'].dt.hour\n",
    "\n",
    "test_df['Timestamp'] = pd.to_datetime(test_df['Timestamp'])\n",
    "test_df['hour'] = test_df['Timestamp'].dt.hour\n",
    "\"\"\""
   ]
  },
  {
   "cell_type": "markdown",
   "metadata": {},
   "source": [
    "AnswerCode 활용 변수 생성 => 이렇게 명시적으로 전해주는 것이 성능에 도움이 될까?"
   ]
  },
  {
   "cell_type": "code",
   "execution_count": 5,
   "metadata": {},
   "outputs": [],
   "source": [
    "# user를 기준으로 한 정답 정보는 시간순서를 고려하여 계산\n",
    "train_df['user_correct_answer'] = train_df.groupby('userID')['answerCode'].transform(lambda x: x.cumsum().shift(1))\n",
    "train_df['user_total_answer'] = train_df.groupby('userID')['answerCode'].cumcount()\n",
    "train_df['user_correct_rate'] = train_df['user_correct_answer'] / train_df['user_total_answer']\n",
    "\n",
    "test_df['user_correct_answer'] = test_df.groupby('userID')['answerCode'].transform(lambda x: x.cumsum().shift(1))\n",
    "test_df['user_total_answer'] = test_df.groupby('userID')['answerCode'].cumcount()\n",
    "test_df['user_correct_rate'] = test_df['user_correct_answer'] / test_df['user_total_answer']"
   ]
  },
  {
   "cell_type": "code",
   "execution_count": 6,
   "metadata": {},
   "outputs": [
    {
     "name": "stdout",
     "output_type": "stream",
     "text": [
      "<class 'pandas.core.frame.DataFrame'>\n",
      "RangeIndex: 2266586 entries, 0 to 2266585\n",
      "Data columns (total 9 columns):\n",
      " #   Column               Dtype  \n",
      "---  ------               -----  \n",
      " 0   userID               int64  \n",
      " 1   assessmentItemID     object \n",
      " 2   testId               object \n",
      " 3   answerCode           int64  \n",
      " 4   Timestamp            object \n",
      " 5   KnowledgeTag         int64  \n",
      " 6   user_correct_answer  float64\n",
      " 7   user_total_answer    int64  \n",
      " 8   user_correct_rate    float64\n",
      "dtypes: float64(2), int64(4), object(3)\n",
      "memory usage: 155.6+ MB\n"
     ]
    }
   ],
   "source": [
    "train_df.info()"
   ]
  },
  {
   "cell_type": "code",
   "execution_count": 7,
   "metadata": {},
   "outputs": [
    {
     "name": "stdout",
     "output_type": "stream",
     "text": [
      "<class 'pandas.core.frame.DataFrame'>\n",
      "RangeIndex: 260114 entries, 0 to 260113\n",
      "Data columns (total 9 columns):\n",
      " #   Column               Non-Null Count   Dtype  \n",
      "---  ------               --------------   -----  \n",
      " 0   userID               260114 non-null  int64  \n",
      " 1   assessmentItemID     260114 non-null  object \n",
      " 2   testId               260114 non-null  object \n",
      " 3   answerCode           260114 non-null  int64  \n",
      " 4   Timestamp            260114 non-null  object \n",
      " 5   KnowledgeTag         260114 non-null  int64  \n",
      " 6   user_correct_answer  259370 non-null  float64\n",
      " 7   user_total_answer    260114 non-null  int64  \n",
      " 8   user_correct_rate    259370 non-null  float64\n",
      "dtypes: float64(2), int64(4), object(3)\n",
      "memory usage: 17.9+ MB\n"
     ]
    }
   ],
   "source": [
    "test_df.info()"
   ]
  },
  {
   "cell_type": "markdown",
   "metadata": {},
   "source": [
    "# 2. train/valid 데이터 분할"
   ]
  },
  {
   "cell_type": "code",
   "execution_count": 8,
   "metadata": {},
   "outputs": [],
   "source": [
    "ratio = 0.8 # test/valid 비율 설정\n",
    "\n",
    "userids = train_df['userID'].unique()\n",
    "\n",
    "random.seed(SEED)\n",
    "random.shuffle(userids)\n",
    "\n",
    "size = int(len(userids) * ratio)\n",
    "train_userids = userids[:size]\n",
    "valid_userids = userids[size:]\n",
    "\n",
    "train = train_df.loc[train_df['userID'].isin(train_userids)]\n",
    "valid = train_df.loc[train_df['userID'].isin(valid_userids)]"
   ]
  },
  {
   "cell_type": "markdown",
   "metadata": {},
   "source": [
    "# 3. CatBoost"
   ]
  },
  {
   "cell_type": "code",
   "execution_count": 9,
   "metadata": {},
   "outputs": [],
   "source": [
    "from catboost import CatBoostClassifier, Pool\n",
    "from sklearn.metrics import accuracy_score, roc_auc_score"
   ]
  },
  {
   "cell_type": "code",
   "execution_count": 10,
   "metadata": {},
   "outputs": [],
   "source": [
    "cat_features = [f for f in train_df.columns if train_df[f].dtype == 'object']\n",
    "\n",
    "train_pool = Pool(data=train.drop(['answerCode'], axis=1), label=train['answerCode'], cat_features=cat_features)\n",
    "valid_pool = Pool(data=valid.drop(['answerCode'], axis=1), label=valid['answerCode'], cat_features=cat_features)"
   ]
  },
  {
   "cell_type": "code",
   "execution_count": 11,
   "metadata": {},
   "outputs": [
    {
     "name": "stderr",
     "output_type": "stream",
     "text": [
      "\u001b[32m[I 2022-11-18 08:12:42,797]\u001b[0m A new study created in memory with name: no-name-0b96a35f-6117-4852-a4a8-9df028dcaf71\u001b[0m\n"
     ]
    },
    {
     "name": "stdout",
     "output_type": "stream",
     "text": [
      "0:\ttest: 0.6760083\tbest: 0.6760083 (0)\ttotal: 502ms\tremaining: 36m 34s\n",
      "100:\ttest: 0.7831078\tbest: 0.7831078 (100)\ttotal: 17.6s\tremaining: 12m 23s\n",
      "200:\ttest: 0.7839566\tbest: 0.7840390 (189)\ttotal: 34.3s\tremaining: 11m 51s\n",
      "300:\ttest: 0.7842465\tbest: 0.7842845 (290)\ttotal: 50.9s\tremaining: 11m 28s\n",
      "400:\ttest: 0.7843324\tbest: 0.7843715 (396)\ttotal: 1m 10s\tremaining: 11m 41s\n",
      "500:\ttest: 0.7844338\tbest: 0.7844574 (478)\ttotal: 1m 31s\tremaining: 11m 43s\n",
      "600:\ttest: 0.7844972\tbest: 0.7844972 (600)\ttotal: 1m 50s\tremaining: 11m 36s\n",
      "700:\ttest: 0.7845016\tbest: 0.7845245 (676)\ttotal: 2m 8s\tremaining: 11m 13s\n",
      "800:\ttest: 0.7845608\tbest: 0.7845938 (779)\ttotal: 2m 25s\tremaining: 10m 46s\n",
      "900:\ttest: 0.7846146\tbest: 0.7846337 (892)\ttotal: 2m 41s\tremaining: 10m 22s\n",
      "1000:\ttest: 0.7846340\tbest: 0.7846349 (986)\ttotal: 2m 57s\tremaining: 9m 58s\n",
      "1100:\ttest: 0.7846481\tbest: 0.7846918 (1061)\ttotal: 3m 14s\tremaining: 9m 38s\n",
      "1200:\ttest: 0.7846704\tbest: 0.7846918 (1061)\ttotal: 3m 31s\tremaining: 9m 18s\n",
      "1300:\ttest: 0.7846556\tbest: 0.7846918 (1061)\ttotal: 3m 48s\tremaining: 8m 58s\n",
      "Stopped by overfitting detector  (241 iterations wait)\n",
      "\n",
      "bestTest = 0.7846917705\n",
      "bestIteration = 1061\n",
      "\n",
      "Shrink model to first 1062 iterations.\n"
     ]
    },
    {
     "name": "stderr",
     "output_type": "stream",
     "text": [
      "\u001b[32m[I 2022-11-18 08:16:37,677]\u001b[0m Trial 0 finished with value: 0.784691770459307 and parameters: {'iterations': 4371, 'od_wait': 241, 'learning_rate': 0.7346740023932911, 'reg_lambda': 59.86585243311882, 'subsample': 0.15601864044243652, 'random_strength': 16.239780813448107, 'depth': 1, 'min_data_in_leaf': 26, 'leaf_estimation_iterations': 10, 'bagging_temperature': 6.79657809075816, 'colsample_bylevel': 0.41235069657748147, 'loss_function': 'Logloss'}. Best is trial 0 with value: 0.784691770459307.\u001b[0m\n"
     ]
    },
    {
     "name": "stdout",
     "output_type": "stream",
     "text": [
      "0:\ttest: 0.7504424\tbest: 0.7504424 (0)\ttotal: 788ms\tremaining: 38m 12s\n",
      "100:\ttest: 0.7867310\tbest: 0.7867310 (100)\ttotal: 1m 17s\tremaining: 35m 46s\n",
      "200:\ttest: 0.7879939\tbest: 0.7880959 (193)\ttotal: 3m 1s\tremaining: 40m 44s\n",
      "300:\ttest: 0.7881823\tbest: 0.7883233 (251)\ttotal: 4m 31s\tremaining: 39m 10s\n",
      "Stopped by overfitting detector  (86 iterations wait)\n",
      "\n",
      "bestTest = 0.7883232653\n",
      "bestIteration = 251\n",
      "\n",
      "Shrink model to first 252 iterations.\n"
     ]
    },
    {
     "name": "stderr",
     "output_type": "stream",
     "text": [
      "\u001b[32m[I 2022-11-18 08:21:53,948]\u001b[0m Trial 1 finished with value: 0.7883232653393244 and parameters: {'iterations': 2911, 'od_wait': 86, 'learning_rate': 0.1915704647548995, 'reg_lambda': 30.424231253531342, 'subsample': 0.5247564316322378, 'random_strength': 27.27780074568463, 'depth': 5, 'min_data_in_leaf': 19, 'leaf_estimation_iterations': 3, 'bagging_temperature': 0.14742753159914673, 'colsample_bylevel': 0.619817105976215, 'loss_function': 'CrossEntropy'}. Best is trial 1 with value: 0.7883232653393244.\u001b[0m\n"
     ]
    }
   ],
   "source": [
    "# Optuna Libraries\n",
    "import optuna\n",
    "from optuna import Trial\n",
    "from optuna.samplers import TPESampler\n",
    "\n",
    "# random sampler\n",
    "sampler = TPESampler(seed=SEED)\n",
    "\n",
    "# define function\n",
    "def objective(trial):\n",
    "\n",
    "    cbc_param = {\n",
    "        'iterations':trial.suggest_int(\"iterations\", 1000, 10000),\n",
    "        'od_wait':trial.suggest_int('od_wait', 50, 250),\n",
    "        'learning_rate' : trial.suggest_uniform('learning_rate',0.01, 1),\n",
    "        'reg_lambda': trial.suggest_uniform('reg_lambda',1e-5,100),\n",
    "        'subsample': trial.suggest_uniform('subsample',0,1),\n",
    "        'random_strength': trial.suggest_uniform('random_strength',10,50),\n",
    "        'depth': trial.suggest_int('depth',1, 15),\n",
    "        'min_data_in_leaf': trial.suggest_int('min_data_in_leaf',1,30),\n",
    "        'leaf_estimation_iterations': trial.suggest_int('leaf_estimation_iterations',1,15),\n",
    "        'bagging_temperature' :trial.suggest_loguniform('bagging_temperature', 0.01, 100.00),\n",
    "        'colsample_bylevel':trial.suggest_float('colsample_bylevel', 0.4, 1.0),\n",
    "        'loss_function':trial.suggest_categorical('loss_function', ['Logloss','CrossEntropy'])\n",
    "    }\n",
    "\n",
    "    # Generate model\n",
    "    cbc = CatBoostClassifier(**cbc_param, \n",
    "                            eval_metric='AUC',\n",
    "                            custom_metric=['AUC', 'Accuracy'],\n",
    "                            cat_features=cat_features,\n",
    "                            verbose=100,\n",
    "                            random_seed=SEED)\n",
    "    cbc.fit(train_pool, \n",
    "            eval_set=valid_pool)\n",
    "                           \n",
    "\t# 평가지표 원하는 평가 지표가 있을 시 바꾸어 준다.\n",
    "    AUC = roc_auc_score(valid['answerCode'], np.array(cbc.predict_proba(valid_pool)).T[1])\n",
    "    return AUC\n",
    "\n",
    "optuna_cbc = optuna.create_study(direction='maximize', sampler=sampler)\n",
    "optuna_cbc.optimize(objective, n_trials=2)  # 빨리 돌려서 테스트하려고 2로 설정"
   ]
  },
  {
   "cell_type": "code",
   "execution_count": 12,
   "metadata": {},
   "outputs": [
    {
     "name": "stdout",
     "output_type": "stream",
     "text": [
      "Best Trial: score 0.7883232653393244,\n",
      "params {'iterations': 2911, 'od_wait': 86, 'learning_rate': 0.1915704647548995, 'reg_lambda': 30.424231253531342, 'subsample': 0.5247564316322378, 'random_strength': 27.27780074568463, 'depth': 5, 'min_data_in_leaf': 19, 'leaf_estimation_iterations': 3, 'bagging_temperature': 0.14742753159914673, 'colsample_bylevel': 0.619817105976215, 'loss_function': 'CrossEntropy'}\n"
     ]
    }
   ],
   "source": [
    "\n",
    "cbc_trial = optuna_cbc.best_trial\n",
    "cbc_trial_params = cbc_trial.params\n",
    "print('Best Trial: score {},\\nparams {}'.format(cbc_trial.value, cbc_trial_params))"
   ]
  },
  {
   "cell_type": "code",
   "execution_count": 13,
   "metadata": {},
   "outputs": [],
   "source": [
    "model = CatBoostClassifier(**cbc_trial_params, \n",
    "                            eval_metric='AUC',\n",
    "                            custom_metric=['AUC', 'Accuracy'],\n",
    "                            cat_features=cat_features,\n",
    "                            verbose=100,\n",
    "                            random_seed=SEED)"
   ]
  },
  {
   "cell_type": "code",
   "execution_count": 14,
   "metadata": {},
   "outputs": [
    {
     "data": {
      "application/vnd.jupyter.widget-view+json": {
       "model_id": "798fe55bbdb84bc6a23e4b32b8599daa",
       "version_major": 2,
       "version_minor": 0
      },
      "text/plain": [
       "MetricVisualizer(layout=Layout(align_self='stretch', height='500px'))"
      ]
     },
     "metadata": {},
     "output_type": "display_data"
    },
    {
     "name": "stdout",
     "output_type": "stream",
     "text": [
      "0:\ttest: 0.7504424\tbest: 0.7504424 (0)\ttotal: 749ms\tremaining: 36m 20s\n",
      "100:\ttest: 0.7867310\tbest: 0.7867310 (100)\ttotal: 1m 6s\tremaining: 30m 50s\n",
      "200:\ttest: 0.7879939\tbest: 0.7880959 (193)\ttotal: 2m 33s\tremaining: 34m 33s\n",
      "300:\ttest: 0.7881823\tbest: 0.7883233 (251)\ttotal: 4m\tremaining: 34m 46s\n",
      "Stopped by overfitting detector  (86 iterations wait)\n",
      "\n",
      "bestTest = 0.7883232653\n",
      "bestIteration = 251\n",
      "\n",
      "Shrink model to first 252 iterations.\n"
     ]
    },
    {
     "data": {
      "text/plain": [
       "<catboost.core.CatBoostClassifier at 0x7f3c2bad05e0>"
      ]
     },
     "execution_count": 14,
     "metadata": {},
     "output_type": "execute_result"
    }
   ],
   "source": [
    "model.fit(\n",
    "    train_pool, \n",
    "    eval_set=valid_pool,\n",
    "    use_best_model=True,\n",
    "    plot=True)"
   ]
  },
  {
   "cell_type": "code",
   "execution_count": 15,
   "metadata": {},
   "outputs": [
    {
     "data": {
      "text/plain": [
       "0.6888071317197569"
      ]
     },
     "execution_count": 15,
     "metadata": {},
     "output_type": "execute_result"
    }
   ],
   "source": [
    "roc_auc_score(valid['answerCode'], model.predict(valid_pool))"
   ]
  },
  {
   "cell_type": "code",
   "execution_count": 16,
   "metadata": {},
   "outputs": [
    {
     "data": {
      "text/plain": [
       "0.7883232653393244"
      ]
     },
     "execution_count": 16,
     "metadata": {},
     "output_type": "execute_result"
    }
   ],
   "source": [
    "roc_auc_score(valid['answerCode'], np.array(model.predict_proba(valid_pool)).T[1])"
   ]
  },
  {
   "cell_type": "markdown",
   "metadata": {},
   "source": [
    "출력값을 1/0 이진이 아닌 확률값으로 받아야 학습할 때의 성능이 나온다"
   ]
  },
  {
   "cell_type": "markdown",
   "metadata": {},
   "source": [
    "## 학습 결과 분석"
   ]
  },
  {
   "cell_type": "code",
   "execution_count": 17,
   "metadata": {},
   "outputs": [
    {
     "data": {
      "text/plain": [
       "Text(0.5, 1.0, 'Feature Importance')"
      ]
     },
     "execution_count": 17,
     "metadata": {},
     "output_type": "execute_result"
    },
    {
     "data": {
      "image/png": "[encoded data removed]",
      "text/plain": [
       "<Figure size 1200x600 with 1 Axes>"
      ]
     },
     "metadata": {},
     "output_type": "display_data"
    }
   ],
   "source": [
    "import matplotlib.pyplot as plt\n",
    "\n",
    "feature_importance = model.feature_importances_\n",
    "sorted_idx = np.argsort(feature_importance)\n",
    "fig = plt.figure(figsize=(12, 6))\n",
    "plt.barh(range(len(sorted_idx)), feature_importance[sorted_idx], align='center')\n",
    "plt.yticks(range(len(sorted_idx)), np.array(train.drop(['answerCode'], axis=1).columns)[sorted_idx])\n",
    "plt.title('Feature Importance')\n"
   ]
  },
  {
   "cell_type": "markdown",
   "metadata": {},
   "source": [
    "# 4. Test"
   ]
  },
  {
   "cell_type": "code",
   "execution_count": 18,
   "metadata": {},
   "outputs": [
    {
     "data": {
      "text/plain": [
       "0.7883232653393244"
      ]
     },
     "execution_count": 18,
     "metadata": {},
     "output_type": "execute_result"
    }
   ],
   "source": [
    "model.best_score_['validation']['AUC']"
   ]
  },
  {
   "cell_type": "code",
   "execution_count": 19,
   "metadata": {},
   "outputs": [],
   "source": [
    "# LEAVE LAST INTERACTION ONLY\n",
    "test_df = test_df[test_df['userID'] != test_df['userID'].shift(-1)]"
   ]
  },
  {
   "cell_type": "code",
   "execution_count": 20,
   "metadata": {},
   "outputs": [],
   "source": [
    "test_pool = Pool(data=test_df.drop(['answerCode'], axis=1), label=test_df['answerCode'], cat_features=cat_features)"
   ]
  },
  {
   "cell_type": "code",
   "execution_count": 21,
   "metadata": {},
   "outputs": [],
   "source": [
    "pred = np.array(model.predict_proba(test_pool)).T[1]"
   ]
  },
  {
   "cell_type": "code",
   "execution_count": 22,
   "metadata": {},
   "outputs": [
    {
     "name": "stdout",
     "output_type": "stream",
     "text": [
      "writing prediction : output/0.7883_submission.csv\n"
     ]
    }
   ],
   "source": [
    "# SAVE OUTPUT\n",
    "output_dir = 'output/'\n",
    "write_path = os.path.join(output_dir, f\"{model.best_score_['validation']['AUC']:.4f}_submission.csv\")\n",
    "if not os.path.exists(output_dir):\n",
    "    os.makedirs(output_dir)\n",
    "with open(write_path, 'w', encoding='utf8') as w:\n",
    "    print(\"writing prediction : {}\".format(write_path))\n",
    "    w.write(\"id,prediction\\n\")\n",
    "    for id, p in enumerate(pred):\n",
    "        w.write('{},{}\\n'.format(id,p))"
   ]
  }
 ],
 "metadata": {
  "kernelspec": {
   "display_name": "Python 3.8.5 ('base')",
   "language": "python",
   "name": "python3"
  },
  "language_info": {
   "codemirror_mode": {
    "name": "ipython",
    "version": 3
   },
   "file_extension": ".py",
   "mimetype": "text/x-python",
   "name": "python",
   "nbconvert_exporter": "python",
   "pygments_lexer": "ipython3",
   "version": "3.8.5"
  },
  "vscode": {
   "interpreter": {
    "hash": "d4d1e4263499bec80672ea0156c357c1ee493ec2b1c70f0acce89fc37c4a6abe"
   }
  }
 },
 "nbformat": 4,
 "nbformat_minor": 4
}
